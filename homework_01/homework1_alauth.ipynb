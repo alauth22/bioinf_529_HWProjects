{
 "cells": [
  {
   "cell_type": "markdown",
   "metadata": {},
   "source": [
    "# BIOINF529 Homework #1 - Winter 2022\n",
    "This homework is worth **10% of your final grade**.\n",
    "\n",
    "The exam is due before the next course module begins as enforced by Canvas.\n",
    "\n",
    "## Coding by Contract\n",
    "We (the Instructors) promise a fair, impartial, and objective means of grading such that you (the Students) follow the tenets of Coding by Contract:\n",
    "1. You must not modify/delete any of the existing code in this document (besides the `pass` statements)\n",
    "* Your functions must use the function signatures as written\n",
    "* Your functions must return/print the expected results (as written)\n",
    "\n",
    "If these are followed correctly, your submission should be compatible with the automated testing suite. Therefore, the more tests your code passes, the less scrutiny your code will be under by our review. We do not care *how* you get there, just that you get there *correctly*.\n",
    "\n",
    "## Submission\n",
    "Please rename this notebook to **homework1_uniqname.ipynb** for submission. \n",
    "\n",
    "For example:\n",
    "> `homework1_apboyle.ipynb`\n",
    "\n",
    "We will *only* grade the most recent submission of your exam.\n",
    "\n",
    "## Late Policy\n",
    "Each submission will receive a **25%** penalty per day (up to three days) that the assignment is late.\n",
    "\n",
    "After that, the student will receive a **0** for the homework.\n",
    "\n",
    "## Academic Honor Code\n",
    "You may consult with others. However, all answers must be your own and code comparison software will be used to enforce this rule. You are allowed to ask questions at office hours but the answers given will be high-level/conceptual in nature.\n"
   ]
  },
  {
   "cell_type": "markdown",
   "metadata": {},
   "source": [
    "---\n",
    "# de Bruijn graphs\n",
    "\n",
    "In class we discussed an error-free creation of a de Bruijn graph. This can be applied to genome assembly from high-throughput sequencing of short reads. Reads can be considered randomly drawn from the genome and can be compiled to form a de Bruijn graph. Overall, edge weights should correspond to the average number of that particular k-mer in the genome. This can be used to identify repeated elements in the genome. In reality however, short read sequencing technologies have an inherent error rate (0.2% - 0.5% for Illumina sequencing or up to 10% for Oxford Nanopore sequencing). We can use longer k-mers to our advantage to elimnate these errors and build a full genome assembly without problems.\n",
    "\n",
    "For example, given a k of 20, there are $4^{20}$ possible k-mers that are possible while only ~ 3 billion 20-mers in the human genome. The vast majority of errors will thus yield a k-mer that does not exist elsewhere in the genome and so it can be ignored.\n",
    "\n",
    "In this problem, we will be reading in data from a fasta file of sequenceing from our genome sequence, splitting these in to k-lenth k-mers, correcting for sequencing errors in our de Bruijn assembly, building a de Bruijn graph, and then outputting the sequence. A pseudo-code implementation of this is below:\n",
    "\n",
    "```\n",
    "error_correcting_deBruijn():\n",
    "    input reads from fasta file\n",
    "    count all k-mers in the file\n",
    "    for all k-mers with frequency <= threshold:\n",
    "        if there is a k-mer with hamming distance of 1 from k-mer and \n",
    "          frequency > threshold and\n",
    "          the new kmer results is a new adjacent kmer that exists \n",
    "              in our k-mers from the fasta file (unless this is the end of the read)\n",
    "          then use the similar kmer \n",
    "        otherwise, use original k-mer\n",
    "    buld de Bruijn graph with cleaned k-mer list\n",
    "    print final walk of graph\n",
    "```\n",
    "\n",
    "You are expected to implement and will be graded on the following functions:\n",
    "* `error_correcting_deBruijn`\n",
    "* `hamming_distance`\n",
    "* `count_kmers`\n",
    "* `clean_read`\n",
    "* `replace_kmer`.\n",
    "\n",
    "Note that all of the lines in the FASTA file should be used to generate the de Bruijn graph and a single string of the eulerian walk is expected as the output.\n",
    "\n",
    "Implement as defined in the code below and according to the concept of **'coding by contract'** as discussed in class. If your functions do not take as input or provide as output the variables that we define, you will not receive credit."
   ]
  },
  {
   "cell_type": "code",
   "execution_count": 204,
   "metadata": {},
   "outputs": [],
   "source": [
    "# These should be the only imports you need to complete this question\n",
    "from homework1 import DeBruijnGraph, get_fasta\n",
    "from collections import Counter\n",
    "import random"
   ]
  },
  {
   "cell_type": "code",
   "execution_count": 205,
   "metadata": {
    "tags": []
   },
   "outputs": [],
   "source": [
    "def hamming_distance(sequence1, sequence2): \n",
    "    ''' Function to calculate Hamming distance between two sequences\n",
    "    Hamming distance is defined as the total number of changes required\n",
    "     to make the sequences identical, or alternatively the total number\n",
    "     of bases that do not match between the sequences.\n",
    "    \n",
    "    Args: \n",
    "        sequence1 (str): k-mer to be compared\n",
    "        sequence2 (str): k-mer to be compared\n",
    "\n",
    "    Returns:\n",
    "        distance (int): hamming distance between the two sequences\n",
    "    \n",
    "    >>> hamming_distance(\"ATGCTAT\", \"ATGCCAG\") #doctest: +ELLIPSIS +NORMALIZE_WHITESPACE\n",
    "    2\n",
    "    '''\n",
    "    distance_counter = 0\n",
    "    #put all the sequences at each index together in a tuple for comparison\n",
    "    #using the two already given arguments. \n",
    "    result = zip(sequence1, sequence2)\n",
    "    #use for loop to compare each element at each respective index to see if they are equal (no difference) \n",
    "    for seq_1, seq_2 in result:\n",
    "        #if there is a difference, add to the counter that is originally set to 0. \n",
    "        if seq_1 != seq_2:\n",
    "            distance_counter += 1\n",
    "    return distance_counter\n"
   ]
  },
  {
   "cell_type": "markdown",
   "metadata": {},
   "source": [
    "### My sanity checks/work I performed to build the hamming_distance() function is below. "
   ]
  },
  {
   "cell_type": "code",
   "execution_count": 181,
   "metadata": {},
   "outputs": [
    {
     "data": {
      "text/plain": [
       "1"
      ]
     },
     "execution_count": 181,
     "metadata": {},
     "output_type": "execute_result"
    }
   ],
   "source": [
    "#All my sanity check for hamming dist. \n",
    "hamming_distance(\"T\", \"X\")"
   ]
  },
  {
   "cell_type": "code",
   "execution_count": 182,
   "metadata": {},
   "outputs": [
    {
     "data": {
      "text/plain": [
       "2"
      ]
     },
     "execution_count": 182,
     "metadata": {},
     "output_type": "execute_result"
    }
   ],
   "source": [
    "#sanity check for hamming dist. \n",
    "hamming_distance(\"ATGCTAT\", \"ATGCCAG\")"
   ]
  },
  {
   "cell_type": "code",
   "execution_count": 64,
   "metadata": {},
   "outputs": [
    {
     "data": {
      "text/plain": [
       "4"
      ]
     },
     "execution_count": 64,
     "metadata": {},
     "output_type": "execute_result"
    }
   ],
   "source": [
    "#another sanity check. \n",
    "hamming_distance(\"TTCCCCATT\", \"TTTTCCAAA\")"
   ]
  },
  {
   "cell_type": "code",
   "execution_count": 16,
   "metadata": {},
   "outputs": [
    {
     "name": "stdout",
     "output_type": "stream",
     "text": [
      "2\n"
     ]
    }
   ],
   "source": [
    "#santiy check for hamming dist. \n",
    "seq_1 = \"AATTCCGT\"\n",
    "seq_2 = \"AATGCGGT\" \n",
    "\n",
    "count = 0\n",
    "\n",
    "result = zip(seq_1, seq_2)\n",
    "for i, k in result:\n",
    "    if i != k:\n",
    "        count += 1\n",
    "print(count)"
   ]
  },
  {
   "cell_type": "code",
   "execution_count": null,
   "metadata": {},
   "outputs": [],
   "source": []
  },
  {
   "cell_type": "code",
   "execution_count": null,
   "metadata": {},
   "outputs": [],
   "source": []
  },
  {
   "cell_type": "code",
   "execution_count": null,
   "metadata": {},
   "outputs": [],
   "source": []
  },
  {
   "cell_type": "code",
   "execution_count": 185,
   "metadata": {},
   "outputs": [],
   "source": [
    "def count_kmers(fasta_file, k):\n",
    "    \"\"\" This function builds Counter of all k-mers in a fasta file\n",
    "        \n",
    "        Args:\n",
    "            fasta_file (str): input fasta file of sequence reads\n",
    "            k (int): k-mer length\n",
    "\n",
    "        Returns:\n",
    "            count (Counter): count of all k-mers\n",
    "        \n",
    "        Example:\n",
    "        # Note this may fail for you because the dict order is not stable - just make sure that your output is appropriate\n",
    "        >>> count_kmers('data/test.fa', 1) #doctest: +ELLIPSIS +NORMALIZE_WHITESPACE\n",
    "        Counter({'T': 19, 'A': 17, 'C': 14, 'G': 4})\n",
    "    \"\"\"\n",
    "    \n",
    "    kmer_counter = Counter()\n",
    "    for name, seq in get_fasta(fasta_file):    \n",
    "        for pos in range(len(seq)-k+1): #getting an index for the k-length kmer throughout the seq. \n",
    "        #looking for every position (pos) \n",
    "            kmer = seq[pos:pos+k] #now indexing throughout the seq to get the right kmer. \n",
    "            if kmer in kmer_counter:\n",
    "                kmer_counter.update([kmer]) #so if the kmer is already in the counter still update the counter. \n",
    "                #need to index the kmer since the kmer is an index of the entire sequence at certain positions (aka pos)\n",
    "            else:\n",
    "                kmer_counter.update([kmer]) #if it is a brand new kmer than obviously update the counter too. \n",
    "            \n",
    "    return kmer_counter\n"
   ]
  },
  {
   "cell_type": "markdown",
   "metadata": {},
   "source": [
    "### My sanity checks/work I performed to build the count_kmers() function is below."
   ]
  },
  {
   "cell_type": "code",
   "execution_count": 186,
   "metadata": {},
   "outputs": [
    {
     "data": {
      "text/plain": [
       "Counter({'C': 14, 'A': 17, 'T': 19, 'G': 4})"
      ]
     },
     "execution_count": 186,
     "metadata": {},
     "output_type": "execute_result"
    }
   ],
   "source": [
    "#All my Sanity checks/work for count_kmers function:\n",
    "count_kmers(\"data/test.fa\", 1)"
   ]
  },
  {
   "cell_type": "code",
   "execution_count": 187,
   "metadata": {},
   "outputs": [
    {
     "data": {
      "text/plain": [
       "Counter({'CA': 13, 'AT': 16, 'TC': 12, 'CT': 1, 'TT': 2, 'TG': 4, 'GA': 4})"
      ]
     },
     "execution_count": 187,
     "metadata": {},
     "output_type": "execute_result"
    }
   ],
   "source": [
    "count_kmers(\"data/test.fa\", 2)"
   ]
  },
  {
   "cell_type": "code",
   "execution_count": 97,
   "metadata": {},
   "outputs": [
    {
     "data": {
      "text/plain": [
       "Counter({'G': 102, 'C': 96, 'A': 60, 'T': 48})"
      ]
     },
     "execution_count": 97,
     "metadata": {},
     "output_type": "execute_result"
    }
   ],
   "source": [
    "count_kmers(\"data/exam_test.fa\", 1)"
   ]
  },
  {
   "cell_type": "code",
   "execution_count": 71,
   "metadata": {},
   "outputs": [],
   "source": [
    "#more sanity checks/work for this function.\n",
    "test_1 = get_fasta(\"data/test.fa\")"
   ]
  },
  {
   "cell_type": "code",
   "execution_count": 72,
   "metadata": {},
   "outputs": [
    {
     "name": "stdout",
     "output_type": "stream",
     "text": [
      "[('seq1', 'CATCATCATCATCATCATCATCATCTT'), ('seq1', 'CATCATCATCATCATTGATGATGATGA')]\n"
     ]
    }
   ],
   "source": [
    "s = list(test_1)\n",
    "print(s)"
   ]
  },
  {
   "cell_type": "code",
   "execution_count": 73,
   "metadata": {},
   "outputs": [
    {
     "data": {
      "text/plain": [
       "Counter({'C': 14, 'A': 17, 'T': 19, 'G': 4})"
      ]
     },
     "execution_count": 73,
     "metadata": {},
     "output_type": "execute_result"
    }
   ],
   "source": [
    "#sanity checks and work for count_kmers function \n",
    "test = Counter(\"CATCATCATCATCATCATCATCATCTTCATCATCATCATCATTGATGATGATGA\")\n",
    "test"
   ]
  },
  {
   "cell_type": "code",
   "execution_count": 74,
   "metadata": {},
   "outputs": [
    {
     "data": {
      "text/plain": [
       "8"
      ]
     },
     "execution_count": 74,
     "metadata": {},
     "output_type": "execute_result"
    }
   ],
   "source": [
    "seq_test = \"AATTCCTT\"\n",
    "len(seq_test)"
   ]
  },
  {
   "cell_type": "code",
   "execution_count": 75,
   "metadata": {},
   "outputs": [],
   "source": [
    "#testing to make sure I'm getting the correct k-mer length out. \n",
    "def kmer_length(seq, k):\n",
    "    kmer_list = [] #empty list to get my \n",
    "    for pos in range(len(seq)-k+1):\n",
    "        kmer = seq[pos:pos+k]\n",
    "        kmer_list.append(kmer)\n",
    "    return kmer_list"
   ]
  },
  {
   "cell_type": "code",
   "execution_count": 76,
   "metadata": {},
   "outputs": [],
   "source": [
    "#now trying to incorporate the Counter into this \n",
    "def kmer_length(seq, k):\n",
    "    kmer_counter = Counter() #got this from hw in bioinf575\n",
    "    \n",
    "    for pos in range(len(seq)-k+1): #getting an index for the k-length kmer throughout the seq. \n",
    "        #looking for every i position. \n",
    "        kmer = seq[pos:pos+k] #now indexing throughout the seq to get the right kmer. \n",
    "        if kmer in kmer_counter:\n",
    "            kmer_counter.update([kmer])#so if the kmer is already in the counter just add 1 to it. \n",
    "        else:\n",
    "            kmer_counter.update([kmer])\n",
    "    return kmer_counter"
   ]
  },
  {
   "cell_type": "code",
   "execution_count": 77,
   "metadata": {},
   "outputs": [
    {
     "data": {
      "text/plain": [
       "Counter({'AA': 1, 'AT': 1, 'TT': 4, 'TC': 1, 'CC': 1, 'CT': 1})"
      ]
     },
     "execution_count": 77,
     "metadata": {},
     "output_type": "execute_result"
    }
   ],
   "source": [
    "#more testing\n",
    "test24 = kmer_length(\"AATTTCCTTT\", 2)\n",
    "test24"
   ]
  },
  {
   "cell_type": "code",
   "execution_count": 78,
   "metadata": {},
   "outputs": [],
   "source": [
    "#more testing \n",
    "test_2 = kmer_length(\"AATTTCCTTT\", 3)"
   ]
  },
  {
   "cell_type": "code",
   "execution_count": 79,
   "metadata": {},
   "outputs": [],
   "source": [
    "kmer_list = test_2.keys()"
   ]
  },
  {
   "cell_type": "code",
   "execution_count": 80,
   "metadata": {},
   "outputs": [
    {
     "data": {
      "text/plain": [
       "dict_keys(['AAT', 'ATT', 'TTT', 'TTC', 'TCC', 'CCT', 'CTT'])"
      ]
     },
     "execution_count": 80,
     "metadata": {},
     "output_type": "execute_result"
    }
   ],
   "source": [
    "kmer_list"
   ]
  },
  {
   "cell_type": "code",
   "execution_count": 81,
   "metadata": {},
   "outputs": [
    {
     "data": {
      "text/plain": [
       "Counter({'A': 2, 'T': 6, 'C': 2})"
      ]
     },
     "execution_count": 81,
     "metadata": {},
     "output_type": "execute_result"
    }
   ],
   "source": [
    "kmer_length(\"AATTTCCTTT\", 1)"
   ]
  },
  {
   "cell_type": "code",
   "execution_count": 82,
   "metadata": {},
   "outputs": [
    {
     "name": "stdout",
     "output_type": "stream",
     "text": [
      "{'m': 1, 'i': 4, 's': 4, 'p': 2}\n"
     ]
    }
   ],
   "source": [
    "#another test to make sure I have this counter thing right.\n",
    "word = \"mississippi\"\n",
    "counter = {}\n",
    "for letter in word:\n",
    "    if letter not in counter:\n",
    "        counter[letter] = 0\n",
    "    counter[letter] += 1  \n",
    "print(counter)"
   ]
  },
  {
   "cell_type": "code",
   "execution_count": 83,
   "metadata": {},
   "outputs": [],
   "source": [
    "#another test when first building kmer_count() function. \n",
    "def kmer_length(seq, k):\n",
    "    kmer_counter = Counter() #got this from hw in bioinf575\n",
    "    for pos in range(len(seq)-k+1): #getting an index for the k-length kmer throughout the seq. \n",
    "        #looking for every i position. \n",
    "        kmer = seq[pos:pos+k] #now indexing throughout the seq to get the right kmer. \n",
    "        if kmer in kmer_counter:\n",
    "            kmer_counter[kmer] += 1 #so if the kmer is already in the counter just add 1 to it. \n",
    "        else:\n",
    "            kmer_counter[kmer] = 1\n",
    "    return kmer_counter"
   ]
  },
  {
   "cell_type": "code",
   "execution_count": 84,
   "metadata": {},
   "outputs": [
    {
     "data": {
      "text/plain": [
       "Counter({'C': 14, 'A': 17, 'T': 19, 'G': 4})"
      ]
     },
     "execution_count": 84,
     "metadata": {},
     "output_type": "execute_result"
    }
   ],
   "source": [
    "#final test with my kmer_length function and I get same output as in the homework function doctest. \n",
    "kmer_length(\"CATCATCATCATCATCATCATCATCTTCATCATCATCATCATTGATGATGATGA\", 1)"
   ]
  },
  {
   "cell_type": "code",
   "execution_count": null,
   "metadata": {},
   "outputs": [],
   "source": []
  },
  {
   "cell_type": "code",
   "execution_count": null,
   "metadata": {},
   "outputs": [],
   "source": []
  },
  {
   "cell_type": "code",
   "execution_count": null,
   "metadata": {},
   "outputs": [],
   "source": []
  },
  {
   "cell_type": "code",
   "execution_count": 190,
   "metadata": {},
   "outputs": [],
   "source": [
    "def replace_kmer(kmer_count, kmer, threshold): #this one has the threshold. \n",
    "    \"\"\" This function replaces a random k-mer that is within\n",
    "            hamming distance of 1 and frequency > threshold,\n",
    "            otherwise returns original k-mer\n",
    "        \n",
    "        Args:\n",
    "            kmer_count (Counter): count of all k-mers\n",
    "            kmer (str): k_mer being replaced\n",
    "            threshold (int): threshold for k-mer replacement\n",
    "\n",
    "        Returns:\n",
    "            kmer (str): new kmer\n",
    "        \n",
    "        Example:\n",
    "        >>> replace_kmer(count_kmers('data/test.fa', 1), 'X', 18) #doctest: +ELLIPSIS +NORMALIZE_WHITESPACE\n",
    "        'T'\n",
    "    \"\"\"\n",
    "    \n",
    "    kmer_dict = kmer_count #Counter Dictionary \n",
    "    kmer_key_list = list(kmer_dict) #list of keys \n",
    "    # print(kmer_key_list)\n",
    "    kmer_list_index = list(range(len(kmer_key_list)))\n",
    "    kmer_shuffle_index_list = random.sample(kmer_list_index, len(kmer_list_index)) #want the number of \n",
    "    for kmer_shuffle_index in kmer_shuffle_index_list:\n",
    "        # print(kmer_shuffle_index)\n",
    "        kmer_random = kmer_key_list[kmer_shuffle_index]\n",
    "        count_freq = kmer_dict[kmer_random]\n",
    "        ham_dist = hamming_distance(str(kmer), str(kmer_random))\n",
    "\n",
    "        if count_freq > threshold and ham_dist == 1: #if conditions are met \n",
    "            kmer_final = kmer_random\n",
    "            break #get out of the for loop once we have met both of these conditions.    \n",
    "        else:\n",
    "            kmer_final = kmer\n",
    "\n",
    "    return kmer_final"
   ]
  },
  {
   "cell_type": "markdown",
   "metadata": {},
   "source": [
    "### My sanity checks/work I performed to build the replace_kmer() function is below."
   ]
  },
  {
   "cell_type": "code",
   "execution_count": 191,
   "metadata": {},
   "outputs": [
    {
     "data": {
      "text/plain": [
       "'T'"
      ]
     },
     "execution_count": 191,
     "metadata": {},
     "output_type": "execute_result"
    }
   ],
   "source": [
    "replace_kmer(count_kmers('data/test.fa', 1), 'X', 18)"
   ]
  },
  {
   "cell_type": "code",
   "execution_count": 192,
   "metadata": {},
   "outputs": [
    {
     "data": {
      "text/plain": [
       "'G'"
      ]
     },
     "execution_count": 192,
     "metadata": {},
     "output_type": "execute_result"
    }
   ],
   "source": [
    "replace_kmer(count_kmers(\"data/exam_test.fa\", 1), \"X\", 100)"
   ]
  },
  {
   "cell_type": "code",
   "execution_count": 110,
   "metadata": {},
   "outputs": [
    {
     "data": {
      "text/plain": [
       "54"
      ]
     },
     "execution_count": 110,
     "metadata": {},
     "output_type": "execute_result"
    }
   ],
   "source": [
    "kmer_count = count_kmers('data/test.fa', 1)\n",
    "sum(list(kmer_count.values()))"
   ]
  },
  {
   "cell_type": "code",
   "execution_count": 111,
   "metadata": {},
   "outputs": [
    {
     "name": "stdout",
     "output_type": "stream",
     "text": [
      "[0, 1, 2]\n"
     ]
    },
    {
     "data": {
      "text/plain": [
       "list"
      ]
     },
     "execution_count": 111,
     "metadata": {},
     "output_type": "execute_result"
    }
   ],
   "source": [
    "kmer_dict = count_kmers('data/test.fa', 1) #Counter Dictionary \n",
    "kmer_key_list = list(kmer_dict) #list of keys\n",
    "# print(range(0:(len(kmer_key_list)-1)))\n",
    "\n",
    "kmer_list_index = list(range(len(kmer_key_list)-1))\n",
    "print(kmer_list_index)\n",
    "type(kmer_list_index)"
   ]
  },
  {
   "cell_type": "code",
   "execution_count": 112,
   "metadata": {},
   "outputs": [
    {
     "name": "stdout",
     "output_type": "stream",
     "text": [
      "[2, 0, 1]\n"
     ]
    }
   ],
   "source": [
    "random.shuffle(kmer_list_index)\n",
    "print(kmer_list_index)"
   ]
  },
  {
   "cell_type": "code",
   "execution_count": 113,
   "metadata": {},
   "outputs": [
    {
     "name": "stdout",
     "output_type": "stream",
     "text": [
      "[0, 1, 2]\n"
     ]
    }
   ],
   "source": [
    "test1 = random.sample(kmer_list_index, len(kmer_list_index))\n",
    "print(test1)"
   ]
  },
  {
   "cell_type": "code",
   "execution_count": 114,
   "metadata": {},
   "outputs": [
    {
     "data": {
      "text/plain": [
       "range(0, 5)"
      ]
     },
     "execution_count": 114,
     "metadata": {},
     "output_type": "execute_result"
    }
   ],
   "source": [
    "range(5)"
   ]
  },
  {
   "cell_type": "code",
   "execution_count": 115,
   "metadata": {},
   "outputs": [
    {
     "data": {
      "text/plain": [
       "3"
      ]
     },
     "execution_count": 115,
     "metadata": {},
     "output_type": "execute_result"
    }
   ],
   "source": [
    "dict_test = {\"AAT\":1, \"TTT\":2, \"CCG\":3}\n",
    "dict_list = list(dict_test)\n",
    "random_kmer = random.choice(dict_list)\n",
    "# random_kmer\n",
    "frequency = dict_test[random_kmer]\n",
    "frequency"
   ]
  },
  {
   "cell_type": "code",
   "execution_count": 119,
   "metadata": {},
   "outputs": [
    {
     "data": {
      "text/plain": [
       "['AAT', 'CCT', 'GGC', 'TTA']"
      ]
     },
     "execution_count": 119,
     "metadata": {},
     "output_type": "execute_result"
    }
   ],
   "source": [
    "air = {\"AAT\": 1,\"CCT\": 2,\"GGC\": 3, \"TTA\": 4} #counter_dict \n",
    "list(air)  #get the keys "
   ]
  },
  {
   "cell_type": "code",
   "execution_count": 120,
   "metadata": {},
   "outputs": [
    {
     "data": {
      "text/plain": [
       "list"
      ]
     },
     "execution_count": 120,
     "metadata": {},
     "output_type": "execute_result"
    }
   ],
   "source": [
    "type(list(air))"
   ]
  },
  {
   "cell_type": "code",
   "execution_count": 122,
   "metadata": {},
   "outputs": [],
   "source": [
    "def test_1(kmer_count):\n",
    "    kmer_dict = kmer_count\n",
    "    kmer_dict_keys = list(kmer_dict)\n",
    "    for random_kmer in random.choice(kmer_dict_keys):\n",
    "        frequency = kmer_dict[random_kmer]\n",
    "        return random_kmer"
   ]
  },
  {
   "cell_type": "code",
   "execution_count": 123,
   "metadata": {},
   "outputs": [
    {
     "data": {
      "text/plain": [
       "'A'"
      ]
     },
     "execution_count": 123,
     "metadata": {},
     "output_type": "execute_result"
    }
   ],
   "source": [
    "test_1(count_kmers(\"data/test.fa\", 1))"
   ]
  },
  {
   "cell_type": "code",
   "execution_count": 124,
   "metadata": {},
   "outputs": [],
   "source": [
    "def test_2(kmer_count, threshold):\n",
    "    kmer_dict = kmer_count\n",
    "    kmer_dict_keys = list(kmer_dict)\n",
    "    for random_kmer in random.choice(kmer_dict_keys):\n",
    "        frequency = kmer_dict[random_kmer]\n",
    "        if frequency > threshold:\n",
    "            return frequency"
   ]
  },
  {
   "cell_type": "code",
   "execution_count": 125,
   "metadata": {},
   "outputs": [
    {
     "data": {
      "text/plain": [
       "14"
      ]
     },
     "execution_count": 125,
     "metadata": {},
     "output_type": "execute_result"
    }
   ],
   "source": [
    "test_2(count_kmers(\"data/test.fa\", 1), 6)"
   ]
  },
  {
   "cell_type": "code",
   "execution_count": null,
   "metadata": {},
   "outputs": [],
   "source": []
  },
  {
   "cell_type": "code",
   "execution_count": null,
   "metadata": {},
   "outputs": [],
   "source": []
  },
  {
   "cell_type": "code",
   "execution_count": null,
   "metadata": {},
   "outputs": [],
   "source": []
  },
  {
   "cell_type": "code",
   "execution_count": 195,
   "metadata": {},
   "outputs": [],
   "source": [
    "def clean_read(read, k, kmer_count, threshold):\n",
    "    \"\"\" This function cleans a read by replacing all k-mers within the read\n",
    "            using the replace_kmer function \n",
    "            \n",
    "        Args:\n",
    "            read (str): the full-length read from the fasta file\n",
    "            k (int): k-mer length\n",
    "            kmer_count (Counter): count of all k-mers\n",
    "            threshold (int): threshold for k-mer replacement\n",
    "\n",
    "        Returns:\n",
    "            new_read (str): read with errors corrected\n",
    "        \n",
    "        Example:\n",
    "        >>> clean_read('ATG', 1, count_kmers('data/test.fa', 1), 18) #doctest: +ELLIPSIS +NORMALIZE_WHITESPACE\n",
    "        'TTT'\n",
    "    \"\"\"\n",
    "    \n",
    "    for pos in range(len(read)-k+1):\n",
    "        read_kmer = read[pos:pos+k]\n",
    "        if kmer_count[read_kmer] <= threshold: \n",
    "        #now going to call the replace_kmer() to return the final kmer. \n",
    "            kmer_replace = replace_kmer(kmer_count, read_kmer, threshold)\n",
    "            read = read.replace(read_kmer, kmer_replace) #replacing a variable, need to always change the original variable. \n",
    "            \n",
    "    return read"
   ]
  },
  {
   "cell_type": "markdown",
   "metadata": {},
   "source": [
    "### My sanity checks/work I performed to build the clean_read() function is below."
   ]
  },
  {
   "cell_type": "code",
   "execution_count": 196,
   "metadata": {},
   "outputs": [
    {
     "data": {
      "text/plain": [
       "'TTT'"
      ]
     },
     "execution_count": 196,
     "metadata": {},
     "output_type": "execute_result"
    }
   ],
   "source": [
    "clean_read(\"ATG\", 1, count_kmers(\"data/test.fa\", 1), 18)"
   ]
  },
  {
   "cell_type": "code",
   "execution_count": 197,
   "metadata": {},
   "outputs": [
    {
     "data": {
      "text/plain": [
       "'AACCGGAA'"
      ]
     },
     "execution_count": 197,
     "metadata": {},
     "output_type": "execute_result"
    }
   ],
   "source": [
    "clean_read(\"AACCGGTT\", 1, count_kmers(\"data/exam_test.fa\", 1), 50)"
   ]
  },
  {
   "cell_type": "code",
   "execution_count": 152,
   "metadata": {},
   "outputs": [
    {
     "data": {
      "text/plain": [
       "'ATT'"
      ]
     },
     "execution_count": 152,
     "metadata": {},
     "output_type": "execute_result"
    }
   ],
   "source": [
    "clean_read(\"ATG\", 1, count_kmers(\"data/test.fa\", 1), 15)"
   ]
  },
  {
   "cell_type": "code",
   "execution_count": 146,
   "metadata": {},
   "outputs": [
    {
     "data": {
      "text/plain": [
       "[0, 1, 2]"
      ]
     },
     "execution_count": 146,
     "metadata": {},
     "output_type": "execute_result"
    }
   ],
   "source": [
    "read = \"ATG\"\n",
    "k =1\n",
    "list(range(len(read)))"
   ]
  },
  {
   "cell_type": "code",
   "execution_count": 76,
   "metadata": {},
   "outputs": [
    {
     "name": "stdout",
     "output_type": "stream",
     "text": [
      "A\n",
      "T\n",
      "G\n"
     ]
    }
   ],
   "source": [
    "for pos in range(len(read)-k+1):\n",
    "        read_kmer = read[pos:pos+k]\n",
    "        print(read_kmer)"
   ]
  },
  {
   "cell_type": "code",
   "execution_count": 86,
   "metadata": {},
   "outputs": [
    {
     "data": {
      "text/plain": [
       "'AGCTGT'"
      ]
     },
     "execution_count": 86,
     "metadata": {},
     "output_type": "execute_result"
    }
   ],
   "source": [
    "#I think this is what they want now for clean_read() function \n",
    "seq = \"ATGTGT\"\n",
    "type(seq)\n",
    "seq_index = seq[0:3]\n",
    "seq_2 = \"AGC\"\n",
    "seq_2\n",
    "new_seq = seq.replace(seq_index, seq_2)\n",
    "new_seq"
   ]
  },
  {
   "cell_type": "code",
   "execution_count": 153,
   "metadata": {},
   "outputs": [
    {
     "data": {
      "text/plain": [
       "3"
      ]
     },
     "execution_count": 153,
     "metadata": {},
     "output_type": "execute_result"
    }
   ],
   "source": [
    "read = \"ATG\"\n",
    "read_list = list(read)\n",
    "len(read_list)"
   ]
  },
  {
   "cell_type": "code",
   "execution_count": 93,
   "metadata": {},
   "outputs": [
    {
     "data": {
      "text/plain": [
       "'ATACT'"
      ]
     },
     "execution_count": 93,
     "metadata": {},
     "output_type": "execute_result"
    }
   ],
   "source": [
    "read_list[2] = kmer_new\n",
    "final_read = \"\".join(read_list)\n",
    "final_read"
   ]
  },
  {
   "cell_type": "code",
   "execution_count": null,
   "metadata": {},
   "outputs": [],
   "source": []
  },
  {
   "cell_type": "code",
   "execution_count": null,
   "metadata": {},
   "outputs": [],
   "source": []
  },
  {
   "cell_type": "code",
   "execution_count": null,
   "metadata": {},
   "outputs": [],
   "source": []
  },
  {
   "cell_type": "code",
   "execution_count": 200,
   "metadata": {},
   "outputs": [],
   "source": [
    "def error_correcting_deBruijn(input_file, k, threshold, seed=42):\n",
    "    \"\"\" This function builds a de Bruijn graph but uses error correction on the input\n",
    "          This fasta file can contain multiple sequence reads and please note that \n",
    "          individual fasta entries should not be concatenated.\n",
    "            \n",
    "        Args:\n",
    "            input_file (str): input fasta file of sequence reads\n",
    "            k (int): k-mer length\n",
    "            threshold (int): threshold for k-mer replacement\n",
    "            seed (int): seed for eulerian walk\n",
    "\n",
    "        Returns:\n",
    "            walk (str): eulerian walk of the de Bruijn graph\n",
    "        \n",
    "        Example:\n",
    "        >>> error_correcting_deBruijn('data/test.fa', 3, 1, 1) #doctest: +ELLIPSIS +NORMALIZE_WHITESPACE\n",
    "        'CAT...'\n",
    "    \"\"\"  \n",
    "\n",
    "    for name, seq in get_fasta(input_file):\n",
    "        #for every sequence in the fasta file, I need to push through the clean_read() function. \n",
    "        reads_cleaned = clean_read(seq, k, count_kmers(input_file, k), threshold)\n",
    "        #now I need to put each cleaned read into the graph. \n",
    "        graph = DeBruijnGraph(reads_cleaned, k)\n",
    "        #need to build the actual graph first. \n",
    "        graph.build_debruijn_graph(reads_cleaned, k)\n",
    "    #now need to print the walk out. \n",
    "    eul_walk = graph.print_eulerian_walk(seed = seed)\n",
    "    #now need to join the walks. \n",
    "    final_eul_walk = eul_walk[0] + ''.join(map(lambda x: x[-1], eul_walk[1:]))\n",
    "\n",
    "    return final_eul_walk\n",
    "        "
   ]
  },
  {
   "cell_type": "markdown",
   "metadata": {},
   "source": [
    "### My sanity checks/work I performed to build the error_correcting_deBruijn() function is below."
   ]
  },
  {
   "cell_type": "code",
   "execution_count": 201,
   "metadata": {},
   "outputs": [
    {
     "data": {
      "text/plain": [
       "'CATCATCATCATGATCATCATCATCATCATCATCATCATGATCATCATCAT'"
      ]
     },
     "execution_count": 201,
     "metadata": {},
     "output_type": "execute_result"
    }
   ],
   "source": [
    "error_correcting_deBruijn(\"data/test.fa\", 3, 1, 1)"
   ]
  },
  {
   "cell_type": "code",
   "execution_count": 202,
   "metadata": {},
   "outputs": [
    {
     "data": {
      "text/plain": [
       "'GATGGGCCAGCTGGGAGCAGATGCCCAGGGGGAACCCTTGAGGAAGAACCCTGGGAGGGCAGGCAGGTGAGACCGAGGGGGTGGGAAGGCTGCTTGGAGAAGCCCCCTGAGGGGTGATGCCAGGATGAGGAGAGGAGGAAGCACCTTCCCGACCTCCACCCTGCTTTTTT'"
      ]
     },
     "execution_count": 202,
     "metadata": {},
     "output_type": "execute_result"
    }
   ],
   "source": [
    "error_correcting_deBruijn(\"data/exam_test.fa\", 3, 1, 1)"
   ]
  },
  {
   "cell_type": "code",
   "execution_count": 173,
   "metadata": {},
   "outputs": [
    {
     "data": {
      "text/plain": [
       "'A'"
      ]
     },
     "execution_count": 173,
     "metadata": {},
     "output_type": "execute_result"
    }
   ],
   "source": [
    "string = \"\"\n",
    "type(string)\n",
    "string.join(\"A\")"
   ]
  },
  {
   "cell_type": "code",
   "execution_count": 174,
   "metadata": {},
   "outputs": [
    {
     "name": "stdout",
     "output_type": "stream",
     "text": [
      "CATCATCATCATCATCATCATCATCTT\n",
      "CATCATCATCATCATCATCATCATCTT\n",
      "CATCATCATCATCATTGATGATGATGA\n",
      "CATCATCATCATCATTGATGATGATGA\n"
     ]
    }
   ],
   "source": [
    "for name, seq in get_fasta(\"data/test.fa\"):\n",
    "    print(seq)\n",
    "    seq_test = str(seq)\n",
    "    print(seq_test)     "
   ]
  },
  {
   "cell_type": "code",
   "execution_count": 175,
   "metadata": {},
   "outputs": [
    {
     "data": {
      "text/plain": [
       "str"
      ]
     },
     "execution_count": 175,
     "metadata": {},
     "output_type": "execute_result"
    }
   ],
   "source": [
    "type(seq_test)"
   ]
  },
  {
   "cell_type": "code",
   "execution_count": 176,
   "metadata": {},
   "outputs": [
    {
     "name": "stdout",
     "output_type": "stream",
     "text": [
      "['AATT', 'GGCC']\n"
     ]
    }
   ],
   "source": [
    "seq = [\"AATT\", \"GGCC\"]\n",
    "# type(seq)\n",
    "seq_str = str(seq)\n",
    "# type(seq_str)\n",
    "# print(seq_str)\n",
    "sum_seq = \"\".join(seq_str)\n",
    "print(sum_seq)\n",
    "# sum_seq = \"\".join(sum)\n",
    "# print(seq)"
   ]
  },
  {
   "cell_type": "code",
   "execution_count": null,
   "metadata": {},
   "outputs": [],
   "source": []
  },
  {
   "cell_type": "markdown",
   "metadata": {},
   "source": [
    "---\n",
    "# Testing your code\n",
    "**Instructions:** If you want a to perform a cursory check of your code (for debugging purposes), do the following:\n",
    "1. Run all cells that the function(s) you want to test depends on\n",
    "* Run the cell(s) you want to test\n",
    "* Run the cell below\n",
    "\n",
    "**Note:** This tests *only* the test cases that are present in the docstrings. Therefore, a passing test does not mean your program(s) work for *all possible* test cases. It is up to you to determine edge-cases that we may consider during grading."
   ]
  },
  {
   "cell_type": "code",
   "execution_count": 203,
   "metadata": {},
   "outputs": [
    {
     "data": {
      "text/plain": [
       "TestResults(failed=0, attempted=5)"
      ]
     },
     "execution_count": 203,
     "metadata": {},
     "output_type": "execute_result"
    }
   ],
   "source": [
    "import doctest\n",
    "doctest.testmod()"
   ]
  },
  {
   "cell_type": "code",
   "execution_count": null,
   "metadata": {},
   "outputs": [],
   "source": []
  }
 ],
 "metadata": {
  "kernelspec": {
   "display_name": "Python 3 (ipykernel)",
   "language": "python",
   "name": "python3"
  },
  "language_info": {
   "codemirror_mode": {
    "name": "ipython",
    "version": 3
   },
   "file_extension": ".py",
   "mimetype": "text/x-python",
   "name": "python",
   "nbconvert_exporter": "python",
   "pygments_lexer": "ipython3",
   "version": "3.7.8"
  }
 },
 "nbformat": 4,
 "nbformat_minor": 4
}
