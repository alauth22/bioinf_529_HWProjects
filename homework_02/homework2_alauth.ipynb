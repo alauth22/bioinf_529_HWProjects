{
 "cells": [
  {
   "cell_type": "markdown",
   "metadata": {},
   "source": [
    "# BIOINF529 Homework #2 - Winter 2020\n",
    "This homework is worth **10% of your final grade**.\n",
    "\n",
    "The exam is due before the next course module begins as enforced by Canvas.\n",
    "\n",
    "## Coding by Contract\n",
    "We (the Instructors) promise a fair, impartial, and objective means of grading such that you (the Students) follow the tenets of Coding by Contract:\n",
    "1. You must not modify/delete any of the existing code in this document (besides the `pass` statements)\n",
    "* Your functions must use the function signatures as written\n",
    "* Your functions must return/print the expected results (as written)\n",
    "\n",
    "If these are followed correctly, your submission should be compatible with the automated testing suite. Therefore, the more tests your code passes, the less scrutiny your code will be under by our review. We do not care *how* you get there, just that you get there *correctly*.\n",
    "\n",
    "## Submission\n",
    "Please rename this notebook to **homework2_uniqname.ipynb** for submission. \n",
    "\n",
    "For example:\n",
    "> `homework1_apboyle.ipynb`\n",
    "\n",
    "We will *only* grade the most recent submission of your exam.\n",
    "\n",
    "## Late Policy\n",
    "Each submission will receive a **25%** penalty per day (up to three days) that the assignment is late.\n",
    "\n",
    "After that, the student will receive a **0** for the homework.\n",
    "\n",
    "## Academic Honor Code\n",
    "You may consult with others. However, all answers must be your own and code comparison software will be used to enforce this rule. You are allowed to ask questions at office hours but the answers given will be high-level/conceptual in nature.\n"
   ]
  },
  {
   "cell_type": "markdown",
   "metadata": {},
   "source": [
    "---\n",
    "# 1. BWT \n",
    "\n",
    "Implement the reverse Burrows-Wheeler transform and run-length encoding.\n",
    "\n",
    "```\n",
    "reverseBWT(string)\n",
    "\n",
    "    \n",
    "```\n",
    "\n",
    "BWT strings are often saved using run-length encoding to save space. You will also implement an enocder and decoder for storing our BWT strings.\n",
    "\n",
    "\n",
    "\n",
    "You are expected to implement the following functions:\n",
    "* `reverseBWT`\n",
    "* `run_length_encode`\n",
    "* `run_length_decode`.\n",
    "\n",
    "Implement as defined in the code below and according to the concept of **'coding by contract'** as discussed in class. If your functions do not take as input or provide as output the variables that we define, you will not receive credit."
   ]
  },
  {
   "cell_type": "code",
   "execution_count": 2,
   "metadata": {},
   "outputs": [],
   "source": [
    "# These should be the only imports you need to complete this question\n",
    "from homework2 import BWT\n",
    "import re #you may use regular expressions if you want"
   ]
  },
  {
   "cell_type": "markdown",
   "metadata": {},
   "source": [
    "### reverseBWT() Function:"
   ]
  },
  {
   "cell_type": "code",
   "execution_count": 193,
   "metadata": {},
   "outputs": [],
   "source": [
    "def reverseBWT(b):\n",
    "    ''' Function to reverse Burrows-Wheeler Transform and regenerate the original string\n",
    "    \n",
    "    Args:\n",
    "        b (str): BWT string\n",
    "    \n",
    "    Returns:\n",
    "        x (str): original string\n",
    "        \n",
    "    Example:\n",
    "    >>> reverseBWT(BWT('thisisatestofastring')) #doctest: +ELLIPSIS +NORMALIZE_WHITESPACE\n",
    "    'thisisatestofastring'\n",
    "    '''\n",
    "    #b is the actual BWT string; output of the BWT function. \n",
    "    #cannot do lists since you cannot concatenate strings to lists. BWT is already a string so just stick with a string. \n",
    "    \n",
    "    #empty matrix containing the correct number of empty strings: the length of the BWT string. \n",
    "    bwt_matrix = [\"\"] * len(b)\n",
    "    bwt_index = 0\n",
    "    \n",
    "    #need to start the for loop to place the first index of the BWT string into the matrix. \n",
    "    #this first for loop gets the bwt string in the matrix so that the second for loop can begin filling in the matrix. \n",
    "    #the first bwt string will be added to the empty matrix and then sorted. Then when the next bwt string is added, \n",
    "    #it will be concatendated to the first, sorted bwt string, and the \"dimer\" will be sorted. process will repeat.  \n",
    "    for start_loop, char in enumerate(b):\n",
    "        #we also MUST add the bwt string to the left side of the matrix and then sort in order to reconstruct the matrix properly. \n",
    "        #so that is why I have b[index] + bwt_matrix[index] in that order. \n",
    "        #once the characters are merged or concatenated, then we sort them alphabetically and repeat the process for how many times \n",
    "        #there are characters in the BWT string. \n",
    "        \n",
    "        bwt_matrix = sorted([b[index] + bwt_matrix[index] for index, char in enumerate(b)])\n",
    "        #print(bwt_matrix)\n",
    "\n",
    "    #need to take the element in the matrix that begins with a \"$\" because that will be our original string. \n",
    "    for elem in bwt_matrix:\n",
    "        # print(elem)\n",
    "        if elem[bwt_index] == \"$\":\n",
    "            x = elem.replace(\"$\", \"\")\n",
    "  \n",
    "    # return type(x) \n",
    "    return x \n",
    "            \n",
    "    "
   ]
  },
  {
   "cell_type": "code",
   "execution_count": 194,
   "metadata": {},
   "outputs": [
    {
     "data": {
      "text/plain": [
       "'thisisatestofastring'"
      ]
     },
     "execution_count": 194,
     "metadata": {},
     "output_type": "execute_result"
    }
   ],
   "source": [
    "reverseBWT(BWT('thisisatestofastring'))"
   ]
  },
  {
   "cell_type": "code",
   "execution_count": 195,
   "metadata": {},
   "outputs": [
    {
     "data": {
      "text/plain": [
       "'banana'"
      ]
     },
     "execution_count": 195,
     "metadata": {},
     "output_type": "execute_result"
    }
   ],
   "source": [
    "reverseBWT(BWT('banana'))"
   ]
  },
  {
   "cell_type": "code",
   "execution_count": 196,
   "metadata": {},
   "outputs": [
    {
     "data": {
      "text/plain": [
       "'amelia'"
      ]
     },
     "execution_count": 196,
     "metadata": {},
     "output_type": "execute_result"
    }
   ],
   "source": [
    "reverseBWT(BWT(\"amelia\"))"
   ]
  },
  {
   "cell_type": "markdown",
   "metadata": {},
   "source": [
    "### My work for reverseBWT() Function Below:"
   ]
  },
  {
   "cell_type": "code",
   "execution_count": 85,
   "metadata": {},
   "outputs": [],
   "source": [
    "#test for reverseBWT() \n",
    "\n",
    "# final_list = []\n",
    "# #now we have our two lists that we want to compare. \n",
    "# first_col = sorted(b) #this will return the string as a list. \n",
    "# bwt_col = list(b) \n",
    "# # print(bwt_col)\n",
    "# # print(first_col) \n",
    "# first_col_index = 0\n",
    "# #taking care of the very first letter (aka the last letter in the final string)\n",
    "# for loop_count in range(len(bwt_col)):\n",
    "#     # print(loop_count)\n",
    "#     bwt_char = bwt_col[first_col_index]\n",
    "#     # print(bwt_char)\n",
    "#     final_list.append(bwt_col[first_col_index])  \n",
    "#     #first column here. \n",
    "#     for index, char in enumerate(first_col):     \n",
    "#         if first_col[index] == bwt_char:\n",
    "#             # print(first_col[index])\n",
    "#             first_col_index = index \n",
    "#             # print(index)\n",
    "#             # print(index)\n",
    "#             # final_list.append(bwt_col[first_col_index])\n",
    "#             break #it breaks you out of the loop that is directly in. (if is not a loop it is a statemetn (a logical condiditon)\n",
    "#         else:\n",
    "#             continue \n",
    "#     pass \n",
    "            "
   ]
  },
  {
   "cell_type": "code",
   "execution_count": 34,
   "metadata": {},
   "outputs": [
    {
     "name": "stdout",
     "output_type": "stream",
     "text": [
      "0\n",
      "1\n",
      "2\n",
      "3\n"
     ]
    }
   ],
   "source": [
    "# string = \"aabb\"\n",
    "# for i, char in enumerate(string):\n",
    "#     print(i)"
   ]
  },
  {
   "cell_type": "code",
   "execution_count": 37,
   "metadata": {},
   "outputs": [],
   "source": [
    "#testing prepending to a list. \n",
    "\n",
    "lst = [\"A\", \"B\", \"C\"]\n",
    "lst.insert(0, \"Z\")\n",
    "# lst"
   ]
  },
  {
   "cell_type": "code",
   "execution_count": 107,
   "metadata": {},
   "outputs": [],
   "source": [
    "original = \"EXAMPLE\"\n",
    "removed = original.replace(\"M\", \"\")\n",
    "# print(removed)"
   ]
  },
  {
   "cell_type": "code",
   "execution_count": 38,
   "metadata": {},
   "outputs": [],
   "source": [
    "test_bwt = \"$abaadd\"\n",
    "\n",
    "test = []\n",
    "\n",
    "bwt_col = list(test_bwt)\n",
    "\n",
    "elements = set(test_bwt)\n",
    "elements\n",
    "\n",
    "test.append(test_bwt)\n",
    "# test"
   ]
  },
  {
   "cell_type": "code",
   "execution_count": 39,
   "metadata": {},
   "outputs": [],
   "source": [
    "final_list = []\n",
    "for elem in elements:\n",
    "    obs = 0 \n",
    "    for char in test_bwt:\n",
    "        if elem == char:\n",
    "            obs += 1\n",
    "            final_list.append((char, obs))\n",
    "# print(final_list)"
   ]
  },
  {
   "cell_type": "code",
   "execution_count": 40,
   "metadata": {},
   "outputs": [],
   "source": [
    "test_char = final_list[0][0]\n",
    "\n",
    "# for test_char in final_list:\n",
    "    # print(test_char)"
   ]
  },
  {
   "cell_type": "code",
   "execution_count": 41,
   "metadata": {},
   "outputs": [],
   "source": [
    "# for char in test:\n",
    "    # print(test.index(char))"
   ]
  },
  {
   "cell_type": "code",
   "execution_count": 42,
   "metadata": {},
   "outputs": [],
   "source": [
    "lst2 = []\n",
    "for char in test_bwt:\n",
    "    for elem in elements:\n",
    "        obs = 0\n",
    "        if elem == char:\n",
    "            obs += 1\n",
    "            lst2.append((char, obs))\n",
    "# lst2"
   ]
  },
  {
   "cell_type": "code",
   "execution_count": 43,
   "metadata": {},
   "outputs": [],
   "source": [
    "lst = [\"d\", \"c\", \"b\", \"a\"]\n",
    "final_list = lst[::-1]\n",
    "# final_list"
   ]
  },
  {
   "cell_type": "code",
   "execution_count": 44,
   "metadata": {},
   "outputs": [],
   "source": [
    "empty = []\n",
    "string = \"AABBCCDD\"\n",
    "lst = list(string)\n",
    "empty.append(lst)\n",
    "# print(empty)"
   ]
  },
  {
   "cell_type": "code",
   "execution_count": 45,
   "metadata": {},
   "outputs": [],
   "source": [
    "string = \"AABBCCDD\"\n",
    "lst = list(string)\n",
    "# print(type(lst))"
   ]
  },
  {
   "cell_type": "code",
   "execution_count": 46,
   "metadata": {},
   "outputs": [],
   "source": [
    "string_01 = \"ACDBDS\"\n",
    "alpha_string = sorted(string_01)\n",
    "# type(alpha_string)"
   ]
  },
  {
   "cell_type": "code",
   "execution_count": 48,
   "metadata": {},
   "outputs": [],
   "source": [
    "# name = \"ame$lia\"\n",
    "# name_list = list(name)\n",
    "# bwt_char = \"$\"\n",
    "\n",
    "# for index, char in enumerate(name_list):\n",
    "#     # print(index, char)\n",
    "#     print(name_list[index])\n",
    "#     if char == bwt_char:\n",
    "#         new_index = index \n",
    "#     else:\n",
    "#         continue \n",
    "#     new_index\n",
    "    "
   ]
  },
  {
   "cell_type": "code",
   "execution_count": 49,
   "metadata": {},
   "outputs": [],
   "source": [
    "original_string = []\n",
    "string_test = \"thisisamelia\"\n",
    "test_bwt = BWT(string_test)\n",
    "# print(test_bwt)\n",
    "test_bwt\n",
    "for index, char in enumerate(test_bwt):\n",
    "    # print(char)\n",
    "    if char == \"$\":\n",
    "        # print(char)\n",
    "        original_string.append(char)\n",
    "        # print(original_string)"
   ]
  },
  {
   "cell_type": "code",
   "execution_count": 53,
   "metadata": {},
   "outputs": [],
   "source": [
    "# lst = [\"A\", \"B\", \"B\", \"C\", \"C\", \"D\"]\n",
    "\n",
    "# for index, char in enumerate(lst):\n",
    "#     # print(index,char)"
   ]
  },
  {
   "cell_type": "code",
   "execution_count": null,
   "metadata": {},
   "outputs": [],
   "source": []
  },
  {
   "cell_type": "code",
   "execution_count": null,
   "metadata": {},
   "outputs": [],
   "source": []
  },
  {
   "cell_type": "markdown",
   "metadata": {},
   "source": [
    "### run_length_decode() Function:"
   ]
  },
  {
   "cell_type": "code",
   "execution_count": 197,
   "metadata": {},
   "outputs": [],
   "source": [
    "def run_length_encode(string):\n",
    "    ''' Function to run-length encode a sequence of characters\n",
    "    \n",
    "    Args:\n",
    "        string (str): string to be encoded\n",
    "        \n",
    "    Returns:\n",
    "        encoded_string (str): run-length encoded string\n",
    "\n",
    "    Example:\n",
    "        >>> run_length_encode('CTTTTTCCCCAAAAAG$AAATCA')\n",
    "        'C5T4C5AG$3ATCA'\n",
    "    '''\n",
    "    #compression method of a string to save space. \n",
    "\n",
    "    #initialize an empty list.  \n",
    "    encoded_list = []\n",
    "    count = 0 \n",
    "    \n",
    "    #we need to start at the beginning of the string. \n",
    "    for index, char in enumerate(string):\n",
    "        # print(char)\n",
    "        # print(index)\n",
    "        if index == 0: #if we're at the beginning of the string. \n",
    "            current_char = string[index] #set the current character to euqal whatever value is in that character.  \n",
    "            count = 1\n",
    "            # print(current_char)\n",
    "        if index != 0: #else if the character is NOT the first character, we need to check if it's the same as the previous char.    \n",
    "            current_char = string[index]\n",
    "            previous_char = string[index - 1] \n",
    "            if current_char == previous_char:  #if true continue to count. \n",
    "                count += 1\n",
    "                # print(index)\n",
    "                # print(current_char)\n",
    "                # encoded_list.append(current_char)     \n",
    "            if current_char != previous_char: #if the next character is NOT the same character as the previous one. \n",
    "                #we need to stop the loop and append to our encoded_list.  \n",
    "                #we don't want to include the number 1. \n",
    "                if count == 1:\n",
    "                    encoded_list.append(previous_char)\n",
    "                else:\n",
    "                    encoded_list.append(str(count) + previous_char) \n",
    "                count = 1 \n",
    "            if index == len(string) - 1: #this is to include the very last character in the string. \n",
    "                #we don't want to include the number 1 here too. So need to exclude it. \n",
    "                if count == 1:\n",
    "                    encoded_list.append(current_char)\n",
    "                else:\n",
    "                    encoded_list.append(str(count) + current_char) \n",
    "   \n",
    "    encoded_string = \"\".join(encoded_list)\n",
    "                \n",
    "    # return type(encoded_string)\n",
    "    return encoded_string\n",
    "              "
   ]
  },
  {
   "cell_type": "code",
   "execution_count": 198,
   "metadata": {},
   "outputs": [
    {
     "data": {
      "text/plain": [
       "'C5T4C5AG$3ATCA'"
      ]
     },
     "execution_count": 198,
     "metadata": {},
     "output_type": "execute_result"
    }
   ],
   "source": [
    "run_length_encode('CTTTTTCCCCAAAAAG$AAATCA')"
   ]
  },
  {
   "cell_type": "code",
   "execution_count": 199,
   "metadata": {},
   "outputs": [
    {
     "data": {
      "text/plain": [
       "'CTGACVBNH'"
      ]
     },
     "execution_count": 199,
     "metadata": {},
     "output_type": "execute_result"
    }
   ],
   "source": [
    "run_length_encode(\"CTGACVBNH\")"
   ]
  },
  {
   "cell_type": "code",
   "execution_count": 200,
   "metadata": {},
   "outputs": [
    {
     "data": {
      "text/plain": [
       "'2C4%NGT4C2#FEG3R$'"
      ]
     },
     "execution_count": 200,
     "metadata": {},
     "output_type": "execute_result"
    }
   ],
   "source": [
    "run_length_encode(\"CC%%%%NGTCCCC##FEGRRR$\")"
   ]
  },
  {
   "cell_type": "markdown",
   "metadata": {},
   "source": [
    "### My work for run_length_encode() Function Below:"
   ]
  },
  {
   "cell_type": "code",
   "execution_count": 66,
   "metadata": {},
   "outputs": [],
   "source": [
    "string = \"AABBCCDD\"\n",
    "\n",
    "# string_enum = enumerate(string)\n",
    "\n",
    "# # list(string_enum)\n",
    "# for index, char in enumerate(string):\n",
    "#     # print(index, char)\n",
    "#     print(char, index)"
   ]
  },
  {
   "cell_type": "code",
   "execution_count": 67,
   "metadata": {},
   "outputs": [],
   "source": [
    "count = 23\n",
    "# str(count)"
   ]
  },
  {
   "cell_type": "code",
   "execution_count": 69,
   "metadata": {},
   "outputs": [],
   "source": [
    "# for i in range(len(test_string)):\n",
    "#     if i == 0:\n",
    "#         # print(test_string[i])"
   ]
  },
  {
   "cell_type": "code",
   "execution_count": 70,
   "metadata": {},
   "outputs": [],
   "source": [
    "lst = [\"a\", \"b\", \"c\", \"d\", \"e\"]\n",
    "# type(\"\".join(lst))"
   ]
  },
  {
   "cell_type": "code",
   "execution_count": 71,
   "metadata": {},
   "outputs": [],
   "source": [
    "# test_string = \"AATTCCGE\"\n",
    "# for pos in range(0,len(test_string)):\n",
    "#     # print(test_string[pos])\n",
    "#     for i in test_string[pos]:\n",
    "#         print(i)"
   ]
  },
  {
   "cell_type": "code",
   "execution_count": 72,
   "metadata": {},
   "outputs": [],
   "source": [
    "end = \"\"\n",
    "# type(end)"
   ]
  },
  {
   "cell_type": "code",
   "execution_count": 73,
   "metadata": {},
   "outputs": [],
   "source": [
    "# for i, read in enumerate(test_string):\n",
    "#     print(read)\n",
    "# print(read) #if you move the print statement outside of the for loop, you get the very last element in the string. "
   ]
  },
  {
   "cell_type": "code",
   "execution_count": null,
   "metadata": {},
   "outputs": [],
   "source": []
  },
  {
   "cell_type": "code",
   "execution_count": null,
   "metadata": {},
   "outputs": [],
   "source": []
  },
  {
   "cell_type": "markdown",
   "metadata": {},
   "source": [
    "### run_length_decode() Function:"
   ]
  },
  {
   "cell_type": "code",
   "execution_count": 15,
   "metadata": {},
   "outputs": [],
   "source": [
    "def run_length_decode(string):\n",
    "    ''' Function to decode a run-length encoded string\n",
    "    \n",
    "    Args:\n",
    "        string (str): string to be decoded\n",
    "        \n",
    "    Returns:\n",
    "        decoded_string (str): decoded string\n",
    "\n",
    "    Example:\n",
    "        >>> run_length_decode('C5T4C5AG$3ATCA')\n",
    "        'CTTTTTCCCCAAAAAG$AAATCA'\n",
    "    '''\n",
    "    \n",
    "    decoded_list = []\n",
    "    skip_char = False #this is already setting the skip_char equal to false at the very beginning so that \n",
    "    #the loop can go straight to the initial checkings. \n",
    "    \n",
    "    for index, char in enumerate(string):\n",
    "        if skip_char == True: #if the skip_char is true, then make it false again and skip that character at that index. \n",
    "            skip_char = False \n",
    "            continue #to skip the character at that index. \n",
    "            \n",
    "        if skip_char == False: #if skip_char is NOT true, then go here. \n",
    "            if char.isnumeric(): #if the character is a number, then do the following. \n",
    "                decoded_list.append(int(char)*string[index + 1])\n",
    "                skip_char = True #we're making skip_char true here. \n",
    "            elif char.isalpha():\n",
    "                decoded_list.append(char)\n",
    "                skip_char = False\n",
    "            else: #if the character a special character like \"$\" \n",
    "                decoded_list.append(char)\n",
    "                skip_char = False  #make skip_char false again. \n",
    "    \n",
    "    #join the lists together to be a string. \n",
    "    decoded_string = \"\".join(decoded_list)    \n",
    "\n",
    "    # return type(decoded_string)\n",
    "    return decoded_string "
   ]
  },
  {
   "cell_type": "code",
   "execution_count": 14,
   "metadata": {},
   "outputs": [
    {
     "data": {
      "text/plain": [
       "'CTTTTTCCCCAAAAAG$000ATCA'"
      ]
     },
     "execution_count": 14,
     "metadata": {},
     "output_type": "execute_result"
    }
   ],
   "source": [
    "run_length_decode(\"C5T4C5AG1$30ATCA\")"
   ]
  },
  {
   "cell_type": "code",
   "execution_count": 203,
   "metadata": {},
   "outputs": [
    {
     "data": {
      "text/plain": [
       "'TTTTTTAAAGB$$$$DDDDDDD#J%%%'"
      ]
     },
     "execution_count": 203,
     "metadata": {},
     "output_type": "execute_result"
    }
   ],
   "source": [
    "run_length_decode(\"6T3AGB4$7D#J3%\")"
   ]
  },
  {
   "cell_type": "markdown",
   "metadata": {},
   "source": [
    "### My work for run_length_decode() Function Below:"
   ]
  },
  {
   "cell_type": "code",
   "execution_count": 100,
   "metadata": {},
   "outputs": [],
   "source": [
    "# test_list = [\"A\", \"B\", \"C\", \"D\"]\n",
    "# test = []\n",
    "# for i, char in enumerate(test_list):\n",
    "#     if char == \"C\":\n",
    "#         continue \n",
    "#     else:\n",
    "#         test.append(char)\n",
    "# print(test)"
   ]
  },
  {
   "cell_type": "code",
   "execution_count": 101,
   "metadata": {},
   "outputs": [],
   "source": [
    "# test_list = [\"A\", \"B\", \"2\", \"C\", \"D\"]\n",
    "# test = []\n",
    "# for i, char in enumerate(test_list):\n",
    "#     if char.isnumeric():\n",
    "#         continue \n",
    "#     else:\n",
    "#         test.append(char)\n",
    "# print(test)"
   ]
  },
  {
   "cell_type": "code",
   "execution_count": 102,
   "metadata": {},
   "outputs": [
    {
     "data": {
      "text/plain": [
       "'CCCCC'"
      ]
     },
     "execution_count": 102,
     "metadata": {},
     "output_type": "execute_result"
    }
   ],
   "source": [
    "5 * \"C\""
   ]
  },
  {
   "cell_type": "code",
   "execution_count": 85,
   "metadata": {},
   "outputs": [
    {
     "data": {
      "text/plain": [
       "False"
      ]
     },
     "execution_count": 85,
     "metadata": {},
     "output_type": "execute_result"
    }
   ],
   "source": [
    "string = \"$\"\n",
    "string.isalpha()"
   ]
  },
  {
   "cell_type": "code",
   "execution_count": 271,
   "metadata": {},
   "outputs": [
    {
     "data": {
      "text/plain": [
       "True"
      ]
     },
     "execution_count": 271,
     "metadata": {},
     "output_type": "execute_result"
    }
   ],
   "source": [
    "string = \"2\"\n",
    "string.isnumeric()"
   ]
  },
  {
   "cell_type": "code",
   "execution_count": null,
   "metadata": {},
   "outputs": [],
   "source": []
  },
  {
   "cell_type": "code",
   "execution_count": null,
   "metadata": {},
   "outputs": [],
   "source": []
  },
  {
   "cell_type": "markdown",
   "metadata": {},
   "source": [
    "---\n",
    "# 2. INDEL Identification\n",
    "\n",
    "Recall from class that we were able to build a 'pileup' representation of a sequence given just the raw read information. We further discussed that this method was insufficient to handle more complex variation such as insertions and deletions and desribed the CIGAR format to better represent these sequences. In this section of the test, we will implement methods for identifying deletions using a CIGAR string. To accomplish this, we will first implement a method to decode CIGAR strings. You can read more about the specification here: https://samtools.github.io/hts-specs/SAMv1.pdf\n",
    "\n",
    "For the purposes of this section, only consider match/mismatch states (M) and deletions (D). So, for example a 20bp perfect match is represented as 20M and a 20 bp sequence with a 5bp deletion after the first 10bp is 10M5D10M.\n",
    "\n",
    "For this section, you will be building pileups for regions with deletions.\n",
    "\n",
    "You are expected to implement the following functions:\n",
    "* `decode_CIGAR`\n",
    "* `get_cigar_pileup`.\n",
    "\n",
    "Implement as defined in the code below and according to the concept of **'coding by contract'** as discussed in class. If your functions do not take as input or provide as output the variables that we define, you will not receive credit."
   ]
  },
  {
   "cell_type": "code",
   "execution_count": 103,
   "metadata": {},
   "outputs": [],
   "source": [
    "# These should be the only imports you need to complete this question\n",
    "import bamnostic as bs\n",
    "from collections import Counter"
   ]
  },
  {
   "cell_type": "markdown",
   "metadata": {},
   "source": [
    "### decode_CIGAR() Function:"
   ]
  },
  {
   "cell_type": "code",
   "execution_count": 204,
   "metadata": {},
   "outputs": [],
   "source": [
    "def decode_CIGAR(read):\n",
    "    ''' Function to decode a CIGAR to a full length\n",
    "    sequence with '-' characters representing gaps\n",
    "    \n",
    "    Args:\n",
    "        read (bamnostic read object): read to be decoded\n",
    "        \n",
    "    Returns:\n",
    "        sequence (str): text of sequence\n",
    "\n",
    "    Example:\n",
    "        >>> read = bs.AlignedSegment\n",
    "        >>> read.cigarstring = \"20M\"\n",
    "        >>> read.seq = \"ATAGATGATGACGTCATGCA\"\n",
    "        >>> decode_CIGAR(read)\n",
    "        'ATAGATGATGACGTCATGCA'\n",
    "        >>> read = bs.AlignedSegment\n",
    "        >>> read.cigarstring = \"10M5D10M\"\n",
    "        >>> read.seq = \"ATAGATGATGACGTCATGCA\"\n",
    "        >>> decode_CIGAR(read)\n",
    "        'ATAGATGATG-----ACGTCATGCA'\n",
    "    '''\n",
    "    #read is already a bamnostic read object.\n",
    "    final = []\n",
    "    tuple1_index = 0 \n",
    "    tuple2_index = 0\n",
    "    tuple3_index = 1\n",
    "    pos = 0 \n",
    "    \n",
    "    \n",
    "    #got this from the bamnostic documentation towards the end of the online document. \n",
    "    #pretty cool because it gives us a list of tuples that tells us if it's a match or a deletion \n",
    "    #and tells us the number of positions that are matched or deleted. \n",
    "    #test gives us the list of tuples that we need. \n",
    "    test = bs.utils.parse_cigar(read.cigarstring)\n",
    "    # print(test)\n",
    "    for index, char in enumerate(test):\n",
    "        # print(index, char)\n",
    "        if test[index][tuple1_index][tuple2_index] == \"BAM_CMATCH\":\n",
    "            match_num = test[index][tuple3_index]\n",
    "            # print(j)\n",
    "            # print(read.seq[0:j])\n",
    "            final.append(read.seq[pos:pos + match_num])\n",
    "            #now next time in the loop, pos will start at the respective position in the sequence. \n",
    "            pos = pos + match_num\n",
    "            # print(final)\n",
    "        if test[index][tuple1_index][tuple2_index] == \"BAM_CDEL\":\n",
    "            delete_num = test[index][tuple3_index]\n",
    "            final.append(\"-\" * delete_num)\n",
    "            # print(final)\n",
    "    \n",
    "    #join the lists together to be a string. \n",
    "    sequence = \"\".join(final) \n",
    "    \n",
    "    # return type(sequence)\n",
    "    return sequence\n",
    "            "
   ]
  },
  {
   "cell_type": "code",
   "execution_count": 205,
   "metadata": {},
   "outputs": [
    {
     "data": {
      "text/plain": [
       "'ATAGATGATG-----ACGTCATGCA'"
      ]
     },
     "execution_count": 205,
     "metadata": {},
     "output_type": "execute_result"
    }
   ],
   "source": [
    "read = bs.AlignedSegment\n",
    "read.cigarstring = \"10M5D10M\"\n",
    "read.seq = \"ATAGATGATGACGTCATGCA\"\n",
    "decode_CIGAR(read)"
   ]
  },
  {
   "cell_type": "code",
   "execution_count": 206,
   "metadata": {},
   "outputs": [
    {
     "data": {
      "text/plain": [
       "'ATAGATGATGACGTCATGCA'"
      ]
     },
     "execution_count": 206,
     "metadata": {},
     "output_type": "execute_result"
    }
   ],
   "source": [
    "read = bs.AlignedSegment\n",
    "read.cigarstring = \"20M\"\n",
    "read.seq = \"ATAGATGATGACGTCATGCA\"\n",
    "decode_CIGAR(read)"
   ]
  },
  {
   "cell_type": "code",
   "execution_count": 207,
   "metadata": {},
   "outputs": [
    {
     "data": {
      "text/plain": [
       "'ATAGATGATG--ACGTC----------ATGCA'"
      ]
     },
     "execution_count": 207,
     "metadata": {},
     "output_type": "execute_result"
    }
   ],
   "source": [
    "read = bs.AlignedSegment\n",
    "read.cigarstring = \"10M2D5M10D5M\"\n",
    "read.seq = \"ATAGATGATGACGTCATGCA\"\n",
    "decode_CIGAR(read)"
   ]
  },
  {
   "cell_type": "markdown",
   "metadata": {},
   "source": [
    "### My work for decode_CIGAR() Function Below:"
   ]
  },
  {
   "cell_type": "code",
   "execution_count": 114,
   "metadata": {},
   "outputs": [],
   "source": [
    "read = bs.AlignedSegment\n",
    "read.seq = \"ATAGATGATGACGTCATGCA\"\n",
    "read.cigarstring = \"20M\"\n",
    "#user "
   ]
  },
  {
   "cell_type": "code",
   "execution_count": 115,
   "metadata": {},
   "outputs": [
    {
     "data": {
      "text/plain": [
       "'ATAGATGATGACGTCATGCA'"
      ]
     },
     "execution_count": 115,
     "metadata": {},
     "output_type": "execute_result"
    }
   ],
   "source": [
    "decode_CIGAR(read)"
   ]
  },
  {
   "cell_type": "code",
   "execution_count": 117,
   "metadata": {},
   "outputs": [],
   "source": [
    "test = bs.utils.parse_cigar(read.cigarstring)\n",
    "# print(test)"
   ]
  },
  {
   "cell_type": "code",
   "execution_count": 118,
   "metadata": {},
   "outputs": [],
   "source": [
    "read = bs.AlignedSegment\n",
    "read.cigarstring = \"10M5D10M\"\n",
    "read.seq = \"ATAGATGATGACGTCATGCA\""
   ]
  },
  {
   "cell_type": "code",
   "execution_count": 119,
   "metadata": {},
   "outputs": [],
   "source": [
    "test = bs.utils.parse_cigar(read.cigarstring)\n",
    "# print(test)"
   ]
  },
  {
   "cell_type": "code",
   "execution_count": null,
   "metadata": {},
   "outputs": [],
   "source": []
  },
  {
   "cell_type": "code",
   "execution_count": null,
   "metadata": {},
   "outputs": [],
   "source": []
  },
  {
   "cell_type": "markdown",
   "metadata": {},
   "source": [
    "### get_cigar_pileup() Function:"
   ]
  },
  {
   "cell_type": "code",
   "execution_count": 208,
   "metadata": {},
   "outputs": [],
   "source": [
    "def get_cigar_pileup(alignments, region_start = None, region_end = None):\n",
    "    ''' Function build a read pileup list\n",
    "        this is implemented as a list of Counter() from region_start to region_end\n",
    "        with our small genome, it is reasonable to cover the entire genome\n",
    "        but for larger genomes a smaller window is required.\n",
    "        \n",
    "        This version builds pileups from a CIGAR string rather than the sequence.\n",
    "    \n",
    "    Args:\n",
    "        alignments (str): bam file of alignments\n",
    "        region_start (int): start position to build pileup\n",
    "        region_end (int): end position to build pileup\n",
    "    \n",
    "    Returns:\n",
    "        genome (list of Counter()): a list from region_start to region_end of\n",
    "            Counters of allele frequencies\n",
    "        \n",
    "    Example:\n",
    "        >>> get_cigar_pileup('sample_reads.bam') #doctest: +ELLIPSIS +NORMALIZE_WHITESPACE \n",
    "        [Counter({'G': 5}), Counter({'G': 8}), Counter({'T': 12}), ...] \n",
    "    '''\n",
    "    #This code below was taken from the class_09 solutions. I used this code since BAM files are not readable and I know this code is robust. \n",
    "    #The code blow has been modified though for my sake and to solve the problem asked.\n",
    "    \n",
    "    bam = bs.AlignmentFile(alignments, \"rb\") \n",
    "    bam_index = 0\n",
    "    \n",
    "    #setting the default to measuring the entire genome, from zero to the very end. \n",
    "    if region_start == None:\n",
    "        region_start = 0\n",
    "        \n",
    "    if region_end == None:\n",
    "        region_end = bam.header[\"SQ\"][bam_index][\"LN\"] #from the documentation and it's in the header. \n",
    "\n",
    "    #creating the lists full of all the empty counters to be updated. setting this equal to the variable \"genome\". \n",
    "    genome = [Counter() for start_loop in range(region_start, region_end)]\n",
    "\n",
    "    for read in bam:\n",
    "        #introducing the decoded cigarstring. calling the decode_CIGAR() function. \n",
    "        decoded_string = decode_CIGAR(read)\n",
    "        #print(char)\n",
    "            # print(read.pos)\n",
    "            # print(index)\n",
    "    \n",
    "        for index, char in enumerate(decoded_string, read.pos): \n",
    "            # print(base)\n",
    "            # print(read.pos)\n",
    "            # print(i)\n",
    "             \n",
    "            if \"-\" in decoded_string or \"-\" not in decoded_string:\n",
    "            #just a my sanity sake in case the bam file does contain any deletions, like the sample file given to us.\n",
    "            # if \"-\" in decoded_string or \"-\" not in decoded_string:\n",
    "            #I decided to include the \"-\" in the pileup because I don't want the index to be off due to the \"-\"'s. The function \n",
    "            #is asking only for the allele frequencies, not for the deletion frequencies. I think if they're deletions they won't \n",
    "            #be counted as alleles. \n",
    "            \n",
    "                #making sure the index is within the region of the genome that we're interested in.\n",
    "                if index >= region_start and index <= region_end:\n",
    "                    #increment the Counter at that base. We skip the dashes and exclude them in the counter. \n",
    "                    if char == \"-\":\n",
    "                        continue \n",
    "                    else:\n",
    "                        genome[index-region_start].update(char) \n",
    "\n",
    "    # return type(genome)\n",
    "    return genome\n"
   ]
  },
  {
   "cell_type": "code",
   "execution_count": 209,
   "metadata": {},
   "outputs": [],
   "source": [
    "# get_cigar_pileup(\"sample_reads.bam\")"
   ]
  },
  {
   "cell_type": "code",
   "execution_count": 210,
   "metadata": {},
   "outputs": [
    {
     "data": {
      "text/plain": [
       "[Counter({'G': 5}),\n",
       " Counter({'G': 8}),\n",
       " Counter({'T': 12}),\n",
       " Counter({'C': 14}),\n",
       " Counter({'T': 16}),\n",
       " Counter({'C': 18}),\n",
       " Counter({'T': 20}),\n",
       " Counter({'C': 23}),\n",
       " Counter({'T': 25}),\n",
       " Counter({'G': 27})]"
      ]
     },
     "execution_count": 210,
     "metadata": {},
     "output_type": "execute_result"
    }
   ],
   "source": [
    "test1 = get_cigar_pileup(\"sample_reads.bam\")\n",
    "test1[0:10]"
   ]
  },
  {
   "cell_type": "markdown",
   "metadata": {},
   "source": [
    "### My work for get_cigar_pileup Function Below:"
   ]
  },
  {
   "cell_type": "code",
   "execution_count": 188,
   "metadata": {},
   "outputs": [],
   "source": [
    "# test = range(2,10)\n",
    "# len(test)"
   ]
  },
  {
   "cell_type": "code",
   "execution_count": 39,
   "metadata": {},
   "outputs": [],
   "source": [
    "# genome5 = get_cigar_pileup_option2(\"sample_reads_DELS.bam\")"
   ]
  },
  {
   "cell_type": "code",
   "execution_count": 40,
   "metadata": {},
   "outputs": [],
   "source": [
    "# get_cigar_pileup_option2(\"sample_reads_DELS.bam\")"
   ]
  },
  {
   "cell_type": "code",
   "execution_count": 159,
   "metadata": {},
   "outputs": [],
   "source": [
    "# def get_cigar_pileup2(alignments, region_start = None, region_end = None):\n",
    "#     ''' Function build a read pileup list\n",
    "#         this is implemented as a list of Counter() from region_start to region_end\n",
    "#         with our small genome, it is reasonable to cover the entire genome\n",
    "#         but for larger genomes a smaller window is required.\n",
    "        \n",
    "#         This version builds pileups from a CIGAR string rather than the sequence.\n",
    "    \n",
    "#     Args:\n",
    "#         alignments (str): bam file of alignments\n",
    "#         region_start (int): start position to build pileup\n",
    "#         region_end (int): end position to build pileup\n",
    "    \n",
    "#     Returns:\n",
    "#         genome (list of Counter()): a list from region_start to region_end of\n",
    "#             Counters of allele frequencies\n",
    "        \n",
    "#     Example:\n",
    "#         >>> get_cigar_pileup('sample_reads.bam') #doctest: +ELLIPSIS +NORMALIZE_WHITESPACE \n",
    "#         [Counter({'G': 5}), Counter({'G': 8}), Counter({'T': 12}), ...] \n",
    "#     '''\n",
    "#     bam = bs.AlignmentFile(alignments, \"rb\") \n",
    "    \n",
    "#     #setting the default to measuring the entire genome, from zero to the very end. \n",
    "    \n",
    "#     if region_start == None:\n",
    "#         region_start = 0\n",
    "        \n",
    "#     if region_end == None:\n",
    "#         region_end = bam.header[\"SQ\"][0][\"LN\"] #from the documentation and it's in the header. \n",
    "#         #same concept as when we took from a header line in 575. \n",
    "    \n",
    "#     #list of the Counter for each base within the given region \n",
    "#     genome = [Counter() for _ in range(region_start, region_end)]\n",
    "    \n",
    "    \n",
    "    \n",
    "    \n",
    "#     for read in bam:\n",
    "        \n",
    "#         # decoded_string = decode_CIGAR(read)\n",
    "        \n",
    "#         #we have an opton in enumerate to say when we want to start counting from \n",
    "#         #usually start 0, but we can start at a certain position, want to start at the beginning of the alignmnet of the read. \n",
    "#         #increment as we go to each position. \n",
    "#         for i, base in enumerate(read.seq, read.pos): \n",
    "#             # print(base)\n",
    "#             # print(read.pos)\n",
    "#             # print(i)\n",
    "#             if i >= region_start and i <= region_end:\n",
    "#                 #increment the Counter at that base. So i is really your index. \n",
    "#                 genome[i-region_start].update(base) \n",
    "#                 #sets us back to zero being region_start. \n",
    "    \n",
    "#     # print(read_num)\n",
    "#     return genome \n"
   ]
  },
  {
   "cell_type": "code",
   "execution_count": 160,
   "metadata": {},
   "outputs": [],
   "source": [
    "# genome2 = get_cigar_pileup2('sample_reads.bam')"
   ]
  },
  {
   "cell_type": "code",
   "execution_count": null,
   "metadata": {},
   "outputs": [],
   "source": [
    "# for index, (first, second) in enumerate(zip(list1, list2)):\n",
    "#     if first != second:\n",
    "#         print(index, second)"
   ]
  },
  {
   "cell_type": "code",
   "execution_count": 161,
   "metadata": {},
   "outputs": [],
   "source": [
    "# flag = False \n",
    "\n",
    "# for index, (first, second) in enumerate(zip(genome1, genome2)):\n",
    "#     if index == 1:\n",
    "#         print(first, second)\n",
    "    \n",
    "#     if first.keys() == second.keys():\n",
    "#         print(\"TRUE\")\n",
    "        \n",
    "    # if first.values() != second.values():\n",
    "    #     print(\"TRUE\")\n",
    "    #     print(index)\n",
    "    \n",
    "    # if first != second:\n",
    "    #     print(index, second) \n",
    "    # elif first == second:\n",
    "    #     flag == True \n",
    "\n",
    "# print(flag) \n",
    "        \n",
    "        "
   ]
  },
  {
   "cell_type": "code",
   "execution_count": 162,
   "metadata": {},
   "outputs": [],
   "source": [
    "# for i in genome1:\n",
    "#         if i not in genome2:\n",
    "#             print(i)"
   ]
  },
  {
   "cell_type": "code",
   "execution_count": 163,
   "metadata": {},
   "outputs": [],
   "source": [
    "# for i in genome2:\n",
    "#     # print(i)\n",
    "#     if i in genome1:\n",
    "#         # print(i)"
   ]
  },
  {
   "cell_type": "code",
   "execution_count": 599,
   "metadata": {},
   "outputs": [],
   "source": [
    "# ! samtools sort -o sample_reads_DELS.bam sample_reads_DELS.sam\n",
    "# ! samtools index sample_reads_DELS.bam"
   ]
  },
  {
   "cell_type": "code",
   "execution_count": 164,
   "metadata": {},
   "outputs": [],
   "source": [
    "# genome3 = get_cigar_pileup(\"sample_reads_DELS.bam\")"
   ]
  },
  {
   "cell_type": "code",
   "execution_count": 165,
   "metadata": {},
   "outputs": [],
   "source": [
    "# genome4 = get_cigar_pileup2(\"sample_reads_DELS.bam\")"
   ]
  },
  {
   "cell_type": "code",
   "execution_count": 70,
   "metadata": {},
   "outputs": [],
   "source": [
    "# for i in genome3:\n",
    "#         if i not in genome4:\n",
    "#             # print(i)"
   ]
  },
  {
   "cell_type": "code",
   "execution_count": null,
   "metadata": {},
   "outputs": [],
   "source": []
  },
  {
   "cell_type": "code",
   "execution_count": null,
   "metadata": {},
   "outputs": [],
   "source": []
  },
  {
   "cell_type": "markdown",
   "metadata": {},
   "source": [
    "---\n",
    "# Testing your code\n",
    "**Instructions:** If you want a to perform a cursory check of your code (for debugging purposes), do the following:\n",
    "1. Run all cells that the function(s) you want to test depends on\n",
    "* Run the cell(s) you want to test\n",
    "* Run the cell below\n",
    "\n",
    "**Note:** This tests *only* the test cases that are present in the docstrings. Therefore, a passing test does not mean your program(s) work for *all possible* test cases. It is up to you to determine edge-cases that we may consider during grading."
   ]
  },
  {
   "cell_type": "code",
   "execution_count": 211,
   "metadata": {},
   "outputs": [
    {
     "data": {
      "text/plain": [
       "TestResults(failed=0, attempted=14)"
      ]
     },
     "execution_count": 211,
     "metadata": {},
     "output_type": "execute_result"
    }
   ],
   "source": [
    "import doctest\n",
    "doctest.testmod()"
   ]
  },
  {
   "cell_type": "code",
   "execution_count": null,
   "metadata": {},
   "outputs": [],
   "source": []
  }
 ],
 "metadata": {
  "kernelspec": {
   "display_name": "Python 3 (ipykernel)",
   "language": "python",
   "name": "python3"
  },
  "language_info": {
   "codemirror_mode": {
    "name": "ipython",
    "version": 3
   },
   "file_extension": ".py",
   "mimetype": "text/x-python",
   "name": "python",
   "nbconvert_exporter": "python",
   "pygments_lexer": "ipython3",
   "version": "3.7.8"
  }
 },
 "nbformat": 4,
 "nbformat_minor": 4
}
