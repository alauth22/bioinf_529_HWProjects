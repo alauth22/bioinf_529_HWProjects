{
 "cells": [
  {
   "cell_type": "markdown",
   "metadata": {},
   "source": [
    "# BIOINF529 Homework #4 - Winter 2020\n",
    "This homework is worth **10% of your final grade**.\n",
    "\n",
    "The exam is due before the next course module begins as enforced by Canvas.\n",
    "\n",
    "## Coding by Contract\n",
    "We (the Instructors) promise a fair, impartial, and objective means of grading such that you (the Students) follow the tenets of Coding by Contract:\n",
    "1. You must not modify/delete any of the existing code in this document (besides the `pass` statements)\n",
    "* Your functions must use the function signatures as written\n",
    "* Your functions must return/print the expected results (as written)\n",
    "\n",
    "If these are followed correctly, your submission should be compatible with the automated testing suite. Therefore, the more tests your code passes, the less scrutiny your code will be under by our review. We do not care *how* you get there, just that you get there *correctly*.\n",
    "\n",
    "## Submission\n",
    "Please rename this notebook to **homework4_uniqname.ipynb** for submission. \n",
    "\n",
    "For example:\n",
    "> `homework4_apboyle.ipynb`\n",
    "\n",
    "We will *only* grade the most recent submission of your exam.\n",
    "\n",
    "## Late Policy\n",
    "Each submission will receive a **25%** penalty per day (up to three days) that the assignment is late.\n",
    "\n",
    "After that, the student will receive a **0** for the homework.\n",
    "\n",
    "## Academic Honor Code\n",
    "You may consult with others. However, all answers must be your own and code comparison software will be used to enforce this rule. You are allowed to ask questions at office hours but the answers given will be high-level/conceptual in nature.\n"
   ]
  },
  {
   "cell_type": "markdown",
   "metadata": {},
   "source": [
    "### 1. Needleman-Wunsch\n",
    "\n",
    "Implement the Needleman Wunsch algorithm using BLOSUM matrix for matches/mismatches to generate global alignments of protein sequences.\n",
    "\n",
    "```\n",
    "needleman_wunsch(seq1, seq2)\n",
    "    Initialize [len(seq1)+1] x [len(seq2)+1] numpy array as scoring matrix with \n",
    "        first column and row starting at 0 and decrementing by gap penalty\n",
    "    \n",
    "    Fill scoring matrix (score_matrix) and Traceback matrix, record the position with max score (max_pos):\n",
    "    for i in each row number:\n",
    "        for j in each column number:\n",
    "            S[i][j] = max( S[i-1][j-1] + compute_diag_score, S[i-1][j] + gap_score, H[i][j-1] + gap_score)\n",
    "            T[i][j] = direction of max( S[i-1][j-1] + compute_diag_score, S[i-1][j] + gap_score, S[i][j-1] + gap_score)\n",
    "    \n",
    "    Traceback. Find the optimal path through scoring matrix starting at bottom right position\n",
    "    \n",
    "```\n",
    "\n",
    "As a reminder from the slides, the scoring for Needleman-Wunsch only uses the scores from the positions above, left, and above-left of the current position in the matrix as bellow:\n",
    "\n",
    "<center><img src=\"figures/Needleman-Wunsch_scoring.png\"></center>\n",
    "\n",
    "For traceback, you will need to keep track of the direction of the arrows in a matrix and then begin traceback from the maximum value.\n",
    "\n",
    "We have provided a function to return scores from the BLOSUM62 matrix for amino acid substitutions. Use this for match and mismatch scores:\n",
    "```\n",
    "blosum_score('K', 'M') # Returns score for a Lysine to Methionine change (-1)\n",
    "```\n",
    "\n",
    "You are expected to implement the following functions: `needleman_wunsch`, `cal_score`, `compute_diag_score`, and `traceback`. Implement as defined in the code below and according to the concept of 'coding by contract' as discussed in class. If your functions do not take as input or provide as output the variables that we define, you will not receive credit."
   ]
  },
  {
   "cell_type": "code",
   "execution_count": 205,
   "metadata": {},
   "outputs": [],
   "source": [
    "import numpy as np\n",
    "from homework4 import blosum_score\n",
    "\n",
    "def needleman_wunsch(seq1, seq2, gap=-4):\n",
    "    '''Needleman Wunsch algorithm for global alignment\n",
    "    \n",
    "    Args:\n",
    "        seq1 (str): input seq 1\n",
    "        seq2 (str): input seq 2\n",
    "        gap (int): default = -4\n",
    "    \n",
    "    Returns:\n",
    "        aligned_seq1 (str)\n",
    "        aligned_seq2 (str)\n",
    "        score_matrix (numpy array): scoring matrix\n",
    "    '''\n",
    "    \n",
    "    #The following code was taken from Alan's Class 17 Solutions for Smith_Waterman and changed to fulfill the Needleman_Wunsch task. \n",
    "    #Here we are doing global alignment, NOT local alignment. \n",
    "   \n",
    "    #initialize the row and col \n",
    "    num_row = len(seq1) + 1 #for first row \n",
    "    num_col = len(seq2) + 1 #for first column\n",
    "   \n",
    "    score_matrix = np.zeros(shape = (num_row, num_col), dtype = int)\n",
    "    traceback_matrix = np.zeros(shape = (num_row, num_col), dtype = int) \n",
    "    \n",
    "    #this is for the decrementing in the first row and column. For each value in the range, I want to multiply each by the same gap value. \n",
    "    #and then update the score_matrix with these values. \n",
    "    for index1 in range(0, num_row):\n",
    "        score_matrix[index1][0] = index1 * gap #we're running through each row but not each column (which is why col index is 0)\n",
    "    for index2 in range(0, num_col):\n",
    "        score_matrix[0][index2] = index2 * gap #we're running through each column but not each row (row col index is 0) \n",
    "\n",
    "    # Fill scoring matrix (score_matrix) and Traceback matrix, record the position with max score (max_pos):\n",
    "    # for i in each row number:\n",
    "    # for j in each column number:\n",
    "    #don't want to include the first position since that's where you'll be starting. \n",
    "    for index1 in range(1, num_row):\n",
    "        for index2 in range(1,num_col):\n",
    "            # S[i][j] = max( S[i-1][j-1] + compute_diag_score, S[i-1][j] + gap_score, H[i][j-1] + gap_score)\n",
    "            # T[i][j] = direction of max( S[i-1][j-1] + compute_diag_score, S[i-1][j] + gap_score, S[i][j-1] + gap_score)\n",
    "            score_matrix[index1][index2], traceback_matrix[index1][index2] = cal_score(score_matrix, seq1, seq2, index1, index2, gap)\n",
    "    \n",
    "   #Traceback Find the optimal path through scoring matrix starting at bottom right position\n",
    "    aligned_seq1, aligned_seq2 = traceback(seq1, seq2, traceback_matrix)\n",
    "    \n",
    "    return aligned_seq1, aligned_seq2, score_matrix \n",
    "   "
   ]
  },
  {
   "cell_type": "code",
   "execution_count": null,
   "metadata": {},
   "outputs": [],
   "source": []
  },
  {
   "cell_type": "code",
   "execution_count": 206,
   "metadata": {},
   "outputs": [],
   "source": [
    "def cal_score(matrix, seq1, seq2, i, j, gap):\n",
    "    '''Calculate score for position (i,j) in scoring matrix, also record move to trace back\n",
    "    \n",
    "    Args:\n",
    "        matrix (numpy array): scoring matrix\n",
    "        seq1 (str): input seq 1\n",
    "        seq2 (str): input seq 2\n",
    "        i (int): current row number\n",
    "        j (int): current column number\n",
    "        gap (int): gap penalty\n",
    "        \n",
    "    Returns:\n",
    "        score in position (i,j)    \n",
    "        move to trace back: 0-DIAG, 1-UP, 2-LEFT\n",
    "        \n",
    "    Pseudocode:\n",
    "        Calculate scores based on upper-left, up, and left neighbors:\n",
    "            diag_score = upper-left + (match or mismatch)\n",
    "            up_score = up + gap\n",
    "            left_score = left + gap\n",
    "        score = max(diag_score, up_score, left_score)\n",
    "        traceback = maximum direction or end\n",
    "        \n",
    "    '''\n",
    "    #The following code was taken from Alan's Class 17 Solutions for Smith_Waterman and changed to fulfill the Needleman_Wunsch task. \n",
    "    \n",
    "    #first initialize my two values that need to be returned. \n",
    "    score = 0 \n",
    "    move = 0 \n",
    "    \n",
    "    #we already have \n",
    "    #calculating scores based on upper-left, up, and left neighbors. \n",
    "    #need to use BLOSUM62 matrix for amino acid substitutions and provided function to calculate score. \n",
    "    diag_score = matrix[i-1][j-1] + compute_diag_score(seq1[i-1], seq2[j-1]) \n",
    "    up_score = matrix[i-1][j] + gap \n",
    "    left_score = matrix[i][j-1] + gap \n",
    "    #final score is going to be the max of the moves or 0. \n",
    "    #move to trace back: 0-DIAG, 1-UP, 2-LEFT\n",
    "    score = max(diag_score, up_score, left_score) \n",
    "    \n",
    "    #need to be in the exact same order as the score above. \n",
    "    #move to trace back: 0-DIAG, 1-UP, 2-LEFT, need to put it into a list. \n",
    "    move = np.argmax([diag_score, up_score, left_score]) \n",
    "    \n",
    "    return score, move \n"
   ]
  },
  {
   "cell_type": "code",
   "execution_count": null,
   "metadata": {},
   "outputs": [],
   "source": []
  },
  {
   "cell_type": "code",
   "execution_count": 207,
   "metadata": {},
   "outputs": [],
   "source": [
    "def compute_diag_score(char1, char2):\n",
    "    '''\n",
    "        Calculate score for a diagonal shift for the matrix\n",
    "        using provided blosum_score() function\n",
    "        \n",
    "        Args:\n",
    "            char1 (str): base in alignment 1\n",
    "            char2 (str): base in alignment 2\n",
    "    \n",
    "        Returns:\n",
    "            diag_score (int): diag score\n",
    "    '''\n",
    "    #need to use the provided blosum_score() function. \n",
    "    #our arguments are two strings, so this should work. \n",
    "    \n",
    "    #calling the function from the homework4 script. \n",
    "    diag_score = blosum_score(char1, char2) #this will return an int which is what we want. \n",
    "    \n",
    "    return diag_score \n"
   ]
  },
  {
   "cell_type": "code",
   "execution_count": null,
   "metadata": {},
   "outputs": [],
   "source": []
  },
  {
   "cell_type": "code",
   "execution_count": 208,
   "metadata": {},
   "outputs": [],
   "source": [
    "def traceback(seq1, seq2, traceback_matrix):\n",
    "    '''Find the opmital path through scoring matrix \n",
    "        \n",
    "        diagonal: match/mismatch\n",
    "        up: gap in seq1\n",
    "        left: gap in seq2\n",
    "        gap symbol is '-'\n",
    "        \n",
    "    Args:\n",
    "        seq1 (str) : First sequence being aligned\n",
    "        seq2 (str) : Second sequence being aligned\n",
    "        traceback_matrix (numpy array): traceback matrix\n",
    "        \n",
    "    Returns:\n",
    "        aligned_seq1 (str): e.g. GTTGAC\n",
    "        aligned_seq2 (str): e.g. GTT-AC\n",
    "        \n",
    "    Pseudocode:\n",
    "        current_row and current_col = bottom right of matrix\n",
    "        while not in top left of matrix:\n",
    "            current_move = traceback_matrix[current_row][current_col]\n",
    "            if current_move == DIAG:\n",
    "                ...\n",
    "            elif current_move == UP:\n",
    "                ...\n",
    "            elif current_move == LEFT:\n",
    "                ...\n",
    "            \n",
    "    '''\n",
    "    #The following code was taken from Alan's Class 17 Solutions for Smith_Waterman and changed to fulfill the Needleman_Wunsch task.  \n",
    "    \n",
    "    #initalize what needs to be returned, making the lists but will convert and join to strings at end. \n",
    "    aligned_seq1 = []\n",
    "    aligned_seq2 = []\n",
    "    gap = \"-\"  #needs to be this symbol \n",
    "    \n",
    "    #current_row and current_col = bottom right of matrix \n",
    "    tup_matrix = traceback_matrix.shape\n",
    "    list_tup = list(tup_matrix) \n",
    "    #this will index to the bottom right corner of the matrix. \n",
    "    current_row = list_tup[0] - 1  \n",
    "    current_col = list_tup[1] - 1   \n",
    "    current_move = None \n",
    "\n",
    "    #need to set the DIAG, UP, and LEFT equal to 0,1,2 respectively \n",
    "    DIAG, UP, LEFT = range(3) \n",
    "    \n",
    "    #while not in top left corner of matrix. \n",
    "    while current_row != 0 and current_col != 0:\n",
    "    # while current_move != traceback_matrix[0][0]: #need to index the top left corner  so need to match to actual position (0,0) matrix indics \n",
    "        current_move = traceback_matrix[current_row][current_col]  #we are starting at bottom right corner of matrix \n",
    "        if current_move == DIAG:\n",
    "            aligned_seq1.append(seq1[current_row-1]) \n",
    "            aligned_seq2.append(seq2[current_col-1])\n",
    "            \n",
    "            #update the current_row and col values \n",
    "            current_row = current_row - 1\n",
    "            current_col = current_col - 1\n",
    "        \n",
    "        elif current_move == UP:\n",
    "            aligned_seq1.append(seq1[current_row-1]) #moving up one row \n",
    "            aligned_seq2.append(gap)  #gap in the column\n",
    "            \n",
    "            #update the current_row value \n",
    "            current_row = current_row - 1\n",
    "            \n",
    "        elif current_move == LEFT:\n",
    "            aligned_seq1.append(gap) #gap in the row \n",
    "            aligned_seq2.append(seq2[current_col-1]) #moving left one column\n",
    "            \n",
    "            #update the current_col value \n",
    "            current_col = current_col - 1\n",
    "            \n",
    "    #now need to reverse the order of the sequences since we filled them backwards \n",
    "    aligned_seq1 = aligned_seq1[::-1]\n",
    "    aligned_seq2 = aligned_seq2[::-1]\n",
    "    \n",
    "    #now convert the lists to strings. \n",
    "    aligned_seq1 = \"\".join(aligned_seq1) \n",
    "    aligned_seq2 = \"\".join(aligned_seq2)\n",
    "    \n",
    "    return aligned_seq1, aligned_seq2\n"
   ]
  },
  {
   "cell_type": "code",
   "execution_count": null,
   "metadata": {},
   "outputs": [],
   "source": []
  },
  {
   "cell_type": "code",
   "execution_count": 209,
   "metadata": {},
   "outputs": [
    {
     "name": "stdout",
     "output_type": "stream",
     "text": [
      "MEKIGG--TE-K--QDI-PK-Y-SLHFFS-QIL-E--I-APAAKGLFS-FLRDSDEVPHNNPEEGKVVVADTTLQYLGSIH-LKSGVIDPHFE-A--LLRTL-KE-GGE--KYNEEVEGAWSQA-YDHLAL--A-I-ES--\n",
      "MEKIGGEEAERKAVQATWARLYANCEDVGVAILVRFFVNFPSAKQYFSQF-KHMEEMEH-DP-E-K--VS-SVLSLVGKAHALKHKV-E-YFKLSGVILEVIAEEFANDFPPYS-HVTAAYKEVQVPNATTPPATLPSSGP\n",
      "[[   0   -4   -8 ... -516 -520 -524]\n",
      " [  -4    5    1 ... -507 -511 -515]\n",
      " [  -8    1   10 ... -498 -502 -506]\n",
      " ...\n",
      " [-440 -431 -422 ...   47   43   39]\n",
      " [-444 -435 -426 ...   49   45   42]\n",
      " [-448 -439 -430 ...   56   52   48]]\n"
     ]
    }
   ],
   "source": [
    "# Example for testing\n",
    "seq1 = 'MEKIGGTEKQDIPKYSLHFFSQILEIAPAAKGLFSFLRDSDEVPHNNPEEGKVVVADTTLQYLGSIHLKSGVIDPHFEALLRTLKEGGEKYNEEVEGAWSQAYDHLALAIES'\n",
    "seq2 = 'MEKIGGEEAERKAVQATWARLYANCEDVGVAILVRFFVNFPSAKQYFSQFKHMEEMEHDPEKVSSVLSLVGKAHALKHKVEYFKLSGVILEVIAEEFANDFPPYSHVTAAYKEVQVPNATTPPATLPSSGP'\n",
    "\n",
    "aligned_seq1, aligned_seq2, score_matrix = needleman_wunsch(seq1,seq2)\n",
    "\n",
    "print (aligned_seq1)\n",
    "print (aligned_seq2)\n",
    "print (score_matrix)"
   ]
  },
  {
   "cell_type": "raw",
   "metadata": {},
   "source": [
    "Expected alignment:\n",
    "MEKIGG--TE-K--QDI-PK-Y-SLHFFS-QIL-E--I-APAAKGLFS-FLRDSDEVPHNNPEEGKVVVADTTLQYLGSIH-LKSGVIDPHFE-A--LLRTL-KE-GGE--KYNEEVEGAWSQA-YDHLAL--A-I-ES--\n",
    "MEKIGGEEAERKAVQATWARLYANCEDVGVAILVRFFVNFPSAKQYFSQF-KHMEEMEH-DP-E-K--VS-SVLSLVGKAHALKHKV-E-YFKLSGVILEVIAEEFANDFPPYS-HVTAAYKEVQVPNATTPPATLPSSGP"
   ]
  },
  {
   "cell_type": "markdown",
   "metadata": {},
   "source": [
    "## My Work for Needleman_Wunsch Below:"
   ]
  },
  {
   "cell_type": "code",
   "execution_count": 13,
   "metadata": {},
   "outputs": [],
   "source": [
    "DIAG, UP, LEFT = range(3)"
   ]
  },
  {
   "cell_type": "code",
   "execution_count": 14,
   "metadata": {},
   "outputs": [
    {
     "name": "stdout",
     "output_type": "stream",
     "text": [
      "0\n"
     ]
    }
   ],
   "source": [
    "print(DIAG)"
   ]
  },
  {
   "cell_type": "code",
   "execution_count": 15,
   "metadata": {},
   "outputs": [
    {
     "name": "stdout",
     "output_type": "stream",
     "text": [
      "1\n"
     ]
    }
   ],
   "source": [
    "print(UP)"
   ]
  },
  {
   "cell_type": "code",
   "execution_count": 16,
   "metadata": {},
   "outputs": [
    {
     "name": "stdout",
     "output_type": "stream",
     "text": [
      "2\n"
     ]
    }
   ],
   "source": [
    "print(LEFT)"
   ]
  },
  {
   "cell_type": "code",
   "execution_count": 82,
   "metadata": {},
   "outputs": [
    {
     "data": {
      "text/plain": [
       "6"
      ]
     },
     "execution_count": 82,
     "metadata": {},
     "output_type": "execute_result"
    }
   ],
   "source": [
    "test = [\"A\", \"M\", \"E\", \"L\", \"I\", \"A\"]\n",
    "test\n",
    "len(test)"
   ]
  },
  {
   "cell_type": "code",
   "execution_count": 34,
   "metadata": {},
   "outputs": [
    {
     "data": {
      "text/plain": [
       "'AMELIA'"
      ]
     },
     "execution_count": 34,
     "metadata": {},
     "output_type": "execute_result"
    }
   ],
   "source": [
    "test = \"\".join(test)\n",
    "test"
   ]
  },
  {
   "cell_type": "code",
   "execution_count": 55,
   "metadata": {},
   "outputs": [
    {
     "data": {
      "text/plain": [
       "array([[0., 0.],\n",
       "       [0., 0.]])"
      ]
     },
     "execution_count": 55,
     "metadata": {},
     "output_type": "execute_result"
    }
   ],
   "source": [
    "test_matrix = np.empty((2,2), dtype = float)\n",
    "test_matrix "
   ]
  },
  {
   "cell_type": "code",
   "execution_count": 56,
   "metadata": {},
   "outputs": [],
   "source": [
    "#goal: I want the current_col and current_row to equal bottom right of matrix "
   ]
  },
  {
   "cell_type": "code",
   "execution_count": 49,
   "metadata": {},
   "outputs": [
    {
     "data": {
      "text/plain": [
       "(5, 5)"
      ]
     },
     "execution_count": 49,
     "metadata": {},
     "output_type": "execute_result"
    }
   ],
   "source": [
    "tuple_test = test_matrix.shape\n",
    "tuple_test"
   ]
  },
  {
   "cell_type": "code",
   "execution_count": 52,
   "metadata": {},
   "outputs": [
    {
     "data": {
      "text/plain": [
       "0.0"
      ]
     },
     "execution_count": 52,
     "metadata": {},
     "output_type": "execute_result"
    }
   ],
   "source": [
    "test_matrix[0][0]"
   ]
  },
  {
   "cell_type": "code",
   "execution_count": 78,
   "metadata": {},
   "outputs": [
    {
     "data": {
      "text/plain": [
       "array([[16, 31, 93],\n",
       "       [89, 12, 72],\n",
       "       [87, 52, 25]])"
      ]
     },
     "execution_count": 78,
     "metadata": {},
     "output_type": "execute_result"
    }
   ],
   "source": [
    "test2 = np.random.randint(1,100,(3,3))\n",
    "test2"
   ]
  },
  {
   "cell_type": "code",
   "execution_count": 79,
   "metadata": {},
   "outputs": [
    {
     "data": {
      "text/plain": [
       "25"
      ]
     },
     "execution_count": 79,
     "metadata": {},
     "output_type": "execute_result"
    }
   ],
   "source": [
    "value_col = 2\n",
    "value_row = 2\n",
    "final = test2[value_row][value_col]\n",
    "final"
   ]
  },
  {
   "cell_type": "code",
   "execution_count": 81,
   "metadata": {},
   "outputs": [
    {
     "name": "stdout",
     "output_type": "stream",
     "text": [
      "[3, 3]\n"
     ]
    },
    {
     "data": {
      "text/plain": [
       "25"
      ]
     },
     "execution_count": 81,
     "metadata": {},
     "output_type": "execute_result"
    }
   ],
   "source": [
    "tup_test2 = test2.shape\n",
    "list_test2 = list(tup_test2)\n",
    "print(list_test2)\n",
    "row_value = list_test2[0] - 1\n",
    "col_value = list_test2[1] - 1\n",
    "\n",
    "final = test2[row_value][col_value]\n",
    "final"
   ]
  },
  {
   "cell_type": "code",
   "execution_count": 113,
   "metadata": {},
   "outputs": [
    {
     "data": {
      "text/plain": [
       "13"
      ]
     },
     "execution_count": 113,
     "metadata": {},
     "output_type": "execute_result"
    }
   ],
   "source": [
    "final2 = test2[0][0]\n",
    "final2"
   ]
  },
  {
   "cell_type": "code",
   "execution_count": null,
   "metadata": {},
   "outputs": [],
   "source": []
  },
  {
   "cell_type": "markdown",
   "metadata": {},
   "source": [
    "### 2. DBscan Clustering\n"
   ]
  },
  {
   "cell_type": "markdown",
   "metadata": {},
   "source": [
    "Implement DBSCAN clustering to partion a set of 'points' into distinct clusters.\n",
    "\n",
    "```\n",
    "DBSCAN(points, epsilon, MinPts):\n",
    "    Select a point\n",
    "    If there are at least MinPts within epsilon of point, mark as core point and include core point and neighbors as cluster\n",
    "    Repeat the previous step for each neighbor until no new points are added\n",
    "    Select an unvisited point and repeat\n",
    "```\n",
    "\n",
    "<center><img src=\"figures/dbscan.gif\"></center>\n",
    "\n",
    "For this question, we have provided a dataclass Point that contains the information for each point in the 2D space where we will be clustering. This class is defined below and includes a description of how to use the class. A demo of the clustering is shown above where we have plotted the steps of DBSCAN for the demo data provided.\n",
    "\n",
    "For this question you will implement all of DBSCAN in the `DBSCAN` function defined below. This function includes sub functions that you will also implement for `find_neighbors` and `euclidean_distance` that are all also defined below. These sub-functions should help you break apart the parts of the algorithm described above.\n",
    "\n",
    "HINT: An efficient way to implement this is very similar to our breadth first search implementation"
   ]
  },
  {
   "cell_type": "code",
   "execution_count": 210,
   "metadata": {},
   "outputs": [],
   "source": [
    "import math\n",
    "from dataclasses import dataclass\n",
    "\n",
    "@dataclass\n",
    "class Point:\n",
    "    ''' A dataclass provided to store points and their cluster\n",
    "    Created as:\n",
    "        new_point = Point(x_position=x, y_position=y, cluster=cluster)\n",
    "    Values can be addressed as:\n",
    "        new_point.x_position = 0\n",
    "        print(new_point.y_position)\n",
    "    '''\n",
    "    x_position: float\n",
    "    y_position: float\n",
    "    cluster: int = None\n",
    "    \n",
    "def DBSCAN(points, epsilon, MinPts):\n",
    "    ''' Algorithm for DBSCAN clustering of point objects\n",
    "    \n",
    "    Args:\n",
    "        points (list of Point) : points in our 2D space to be clustered\n",
    "        epsilon (float) : distance to allow assignment to current cluster \n",
    "        MinPts (int) : minimum number of points to assign a core_point in DBSCAN\n",
    "        \n",
    "    Returns:\n",
    "        points (list of Point) : points in our 2D space with Point.cluster assigned to appropriate cluster \n",
    "        and non-assigned points in cluster 0 or cluster None\n",
    "    \n",
    "    '''\n",
    "    \n",
    "    def find_neighbors(point, points, epsilon):\n",
    "        ''' Finds all neighboring points within euclidean distance epsilon of point\n",
    "        \n",
    "        Args:\n",
    "            point (Point): point for which we are estimating distance  starting point \n",
    "            points (list of Point): list of points for clustering  every other point \n",
    "            epsilon (float) : distance to allow assignment to current cluster   epsilon is a variable (distance) \n",
    "            \n",
    "        Returns:\n",
    "            neighbors (list of Point): list of all points within epsilon of point\n",
    "        '''\n",
    "        \n",
    "        #initialize neighbors list first \n",
    "        neighbors = []\n",
    "        #get my points here. We already have \n",
    "        for index in range(len(points)): #need to go through points list for each point. \n",
    "            distance_temp = euclidean_distance(point, points[index])\n",
    "            if distance_temp <= epsilon:  #epsilon acts as the threshold or radius.  \n",
    "                neighbors.append(points[index]) \n",
    "            \n",
    "        #need to take your point and then for loop through the points list and compare that point with your point \n",
    "        #euclidean_distance \n",
    "        #only finding the neighbors for that specific point. \n",
    "        #<= epsilon \n",
    "        return neighbors  \n",
    "    \n",
    "    def euclidean_distance(point1, point2):\n",
    "        ''' Calculates Euclidean distance between two Points\n",
    "        \n",
    "        Args:\n",
    "            point1 (Point): first point for comparison\n",
    "            point2 (Point): second point for comparison\n",
    "            \n",
    "        Returns:\n",
    "            distance (float): Euclidean distance between points\n",
    "        '''\n",
    "        #need to use the class\n",
    "        x1 = point1.x_position \n",
    "        x2 = point2.x_position \n",
    "        y1 = point1.y_position \n",
    "        y2 = point2.y_position \n",
    "        \n",
    "        #math.sqrt will return a float (I googled this). \n",
    "        distance = math.sqrt((x1-x2)**2 + (y1-y2)**2)\n",
    "        \n",
    "        return distance   \n",
    "    \n",
    "    \n",
    "    #beginning of DBSCAN \"mother\" algorithm\n",
    "    #per Brad, do not have to randomly select a point, I can just iterate through each point in the points list. \n",
    "    \n",
    "    #Below is taken from my homework_4_template_doc, so please refer to the doc for the full explanation \n",
    "    # as to why this code below does not fully work for DBSCAN. \n",
    "    \n",
    "    #I did end up getting four clusters, not including the outliers which are designated with 0’s. \n",
    "    # The problem was the clusters were labeled as “2”, “6”, “11”, and “12” instead of “1”, “2”, “3”, “4”. \n",
    "    # It must be due to the neighbors not being iterated properly with BFS, since they are checked properly \n",
    "    # for core, border, or outlier point to my knowledge. I did try to implement the BFS again with the neighbor \n",
    "    # list now, and I get a worse result, with 5+ clusters and outliers (which were still 0), clusters being labeled wrong. \n",
    "    # oping to discuss this with instructors or Brad after homework is handed in to see exactly what I did wrong. \n",
    "    \n",
    "    #NOTE:\n",
    "    #what I tried is commented out since it'll give more than 4 clusters. But I wanted to show you that I did \n",
    "    #try it, since it conceptually make sense to me, but it was giving me huge cluster values. \n",
    "    \n",
    "        \n",
    "    core = 1  \n",
    "    not_core = 0\n",
    "    N = []\n",
    "    \n",
    "    for pt in points:\n",
    "        if pt.cluster == None:\n",
    "            N.append(pt)\n",
    "            while N: #breadth search \n",
    "                node = N.pop(0)  #need to pop out the first in index. \n",
    "                # print(node)\n",
    "                if node.cluster == None: #which they are all starting as none, so all of them. \n",
    "                    neighs = find_neighbors(node, points, epsilon)  #this will output the neighs list. \n",
    "                    #need to meet our criteria to be a core point \n",
    "                    if len(neighs) >= MinPts:\n",
    "                        node.cluster = core #then it is a core point. \n",
    "                        while neighs:\n",
    "                            ngh = neighs.pop(0)\n",
    "                        # for neigh in neighs: #take that core point's neighbors and see if they are core points as well. \n",
    "                            neighs2 = find_neighbors(ngh, points, epsilon)\n",
    "                            if len(neighs2) >= MinPts:\n",
    "                                N.append(ngh)\n",
    "                                # neighs2.append(ngh) | gives me 5+ clusters SHOULD BE THIS I THINK\n",
    "                                #one point frm master list, and then testing a subset, now work with subset, \n",
    "                                node.cluster = core\n",
    "                                # ngh.cluster = core | this leads to 5+ clusters | SHOULD BE THIS I THINK SINCE WE'RE ONLY LOOKING AT NEIGHBORS\n",
    "                            else:\n",
    "                                node.cluster = core #these points even though are not core points, they are still in this cluster. \n",
    "                                # ngh.cluster = core | this leads to 5+ clusters | SHOULD BE THIS I THINK SINCE WE'RE LOOKING AT ONLY NEIGHBORS \n",
    "                    else: #if not a core point. \n",
    "                        # pass \n",
    "                        node.cluster = not_core  #not a core point and not in the cluster/could be outlier. \n",
    "                else: #if it's not a None point at all, just pass. \n",
    "                    pass\n",
    "            core = core + 1\n",
    "        else:\n",
    "            pass \n",
    "        \n",
    "    return points\n"
   ]
  },
  {
   "cell_type": "code",
   "execution_count": 211,
   "metadata": {},
   "outputs": [],
   "source": [
    "# This is demo code to initialize a set of point objects similar to that in the slides from class\n",
    "demo_points_x = [3,4,4,5,5,6,6,7,7,5,6,7,8,8,8,9,11,12,13,13,17,17,18,18,18,19,21]\n",
    "demo_points_y = [7,5,3,6,7,5,7,6,5,14,15,13,16,13,12,14,13,15,15,13,7,9,5,7,9,6,8]\n",
    "list_of_points = []\n",
    "for x,y, in zip(demo_points_x, demo_points_y):\n",
    "    list_of_points.append(Point(x_position=x, y_position=y))"
   ]
  },
  {
   "cell_type": "code",
   "execution_count": 212,
   "metadata": {},
   "outputs": [
    {
     "name": "stdout",
     "output_type": "stream",
     "text": [
      "[Point(x_position=3, y_position=7, cluster=0), Point(x_position=4, y_position=5, cluster=2), Point(x_position=4, y_position=3, cluster=0), Point(x_position=5, y_position=6, cluster=2), Point(x_position=5, y_position=7, cluster=2), Point(x_position=6, y_position=5, cluster=2), Point(x_position=6, y_position=7, cluster=2), Point(x_position=7, y_position=6, cluster=2), Point(x_position=7, y_position=5, cluster=2), Point(x_position=5, y_position=14, cluster=0), Point(x_position=6, y_position=15, cluster=0), Point(x_position=7, y_position=13, cluster=6), Point(x_position=8, y_position=16, cluster=0), Point(x_position=8, y_position=13, cluster=6), Point(x_position=8, y_position=12, cluster=6), Point(x_position=9, y_position=14, cluster=0), Point(x_position=11, y_position=13, cluster=0), Point(x_position=12, y_position=15, cluster=0), Point(x_position=13, y_position=15, cluster=11), Point(x_position=13, y_position=13, cluster=11), Point(x_position=17, y_position=7, cluster=12), Point(x_position=17, y_position=9, cluster=12), Point(x_position=18, y_position=5, cluster=12), Point(x_position=18, y_position=7, cluster=12), Point(x_position=18, y_position=9, cluster=12), Point(x_position=19, y_position=6, cluster=12), Point(x_position=21, y_position=8, cluster=0)]\n"
     ]
    }
   ],
   "source": [
    "points = DBSCAN(list_of_points, epsilon=2, MinPts=3)\n",
    "print(points)"
   ]
  },
  {
   "cell_type": "code",
   "execution_count": 213,
   "metadata": {},
   "outputs": [],
   "source": [
    "#done "
   ]
  },
  {
   "cell_type": "markdown",
   "metadata": {},
   "source": [
    "## My Work for DBSCAN Below"
   ]
  },
  {
   "cell_type": "code",
   "execution_count": null,
   "metadata": {},
   "outputs": [],
   "source": [
    "#def DBSCAN(points, epsilon, MinPts)                   \n",
    "    \n",
    "    \n",
    "#final options. \n",
    "#     core = 1  \n",
    "#     not_core = 0\n",
    "#     N = []\n",
    "    \n",
    "#     for pt in points:\n",
    "#         if pt.cluster == None:\n",
    "#             N.append(pt)\n",
    "#             while N: #breadth search \n",
    "#                 node = N.pop(0)  #need to pop out the first in index. \n",
    "#                 # print(node)\n",
    "#                 if node.cluster == None: #which they are all starting as none, so all of them. \n",
    "#                     neighs = find_neighbors(node, points, epsilon)  #this will output the neighs list. \n",
    "#                     #need to meet our criteria to be a core point \n",
    "#                     if len(neighs) >= MinPts:\n",
    "#                         node.cluster = core #then it is a core point.  \n",
    "#                         for neigh in neighs: #take that core point's neighbors and see if they are core points as well. \n",
    "#                             neighs2 = find_neighbors(neigh, points, epsilon)\n",
    "#                             if len(neighs2) >= MinPts:\n",
    "#                                 N.append(neigh)\n",
    "#                                 #one point frm master list, and then testing a subset, now work with subset, \n",
    "#                                 node.cluster = core\n",
    "#                             else:\n",
    "#                                 node.cluster = core #these points even though are not core points, they are still in this cluster. \n",
    "#                     else: #if \n",
    "#                         node.cluster = not_core  #not a core point and not in the cluster/could be outlier. \n",
    "#                 else: #if it's not a node period. \n",
    "#                     pass \n",
    "#             core = core + 1\n",
    "#         else:\n",
    "#             pass \n",
    "        \n",
    "#     return points\n",
    "    \n",
    "    \n",
    "\n",
    "#option 1:\n",
    "#     cluster = 1 \n",
    "#     not_core = 0 \n",
    "#     all_neighbors = []\n",
    "    \n",
    "#     for point in points:\n",
    "#         neighbors1 = find_neighbors(point, points, epsilon)\n",
    "#         all_neighbors.append(neighbors1) \n",
    "#         for index, lst in enumerate(all_neighbors):\n",
    "#             if len(all_neighbors[index]) >= MinPts:\n",
    "#                 points[index].cluster = cluster\n",
    "#                 for index2, neigh_point in enumerate(\n",
    "    \n",
    "    \n",
    "#option 2:\n",
    "#     cluster = 1 \n",
    "#     not_core = 0 \n",
    "    \n",
    "#     for point in points:\n",
    "#         neighbor_list1 = find_neighbors(point, points, epsilon)\n",
    "#         if len(neighbor_list1) >= MinPts:\n",
    "#             point.cluster = cluster \n",
    "            \n",
    "#             for neigh_point in neighbor_list1:\n",
    "#                 neighbor_list2 = find_neighbors(neigh_point, points, epsilon)\n",
    "#                 if len(neighbor_list2) >= MinPts:\n",
    "#                     neigh_point.cluster = cluster \n",
    "#                 else:\n",
    "#                     neigh_point.cluster = not_core \n",
    "#             cluster += cluster \n",
    "#         else:\n",
    "#             point.cluster = not_core \n",
    "            \n",
    "    # return points \n",
    "    \n",
    "    \n",
    "#option 3:\n",
    "#     for pt in points:\n",
    "#         if pt.cluster == None:\n",
    "#             N.append(pt)\n",
    "#             while N: #breadth search \n",
    "#                 node = N.pop()  #need to pop out the first in index. \n",
    "#                 # print(node)\n",
    "#                 if node.cluster == None:\n",
    "#                     neighs = find_neighbors(node, points, epsilon) \n",
    "#                     if len(neighs) >= MinPts:\n",
    "#                         node.cluster = CN \n",
    "#                         for neigh in neighs:\n",
    "#                             N.append(neigh)\n",
    "#                     else:\n",
    "#                         node.cluster = 0\n",
    "#                 else:\n",
    "#                     pass \n",
    "#             CN = CN + 1\n",
    "#         else:\n",
    "#             pass \n",
    "        \n",
    "#     return points\n",
    "\n",
    "    \n",
    "#option 4:    \n",
    "#     for index, point in enumerate(points):\n",
    "#         neighbor_list1 = find_neighbors(points[index], points, epsilon) #refer to neighbors list  \n",
    "#         if len(neighbor_list1) >= MinPts:\n",
    "#             #this point is a core point. \n",
    "#             points[index].cluster = cluster    \n",
    "#             #now looking at the core point's neighbors. \n",
    "#             for index2, neigh_point in enumerate(neighbor_list1):\n",
    "#                 neighbor_list2 = find_neighbors(neighbor_list1[index2], points, epsilon)\n",
    "#                 #so this neighboring point is a core too! \n",
    "#                 if len(neighbor_list2) >= MinPts:\n",
    "#                     point.cluster = cluster \n",
    "#                 #for those that don't have any neighbors. \n",
    "#                 else:\n",
    "#                     point.cluster = not_core       \n",
    "#                 # if len(neighbor_list2) < MinPts:\n",
    "#                 #     neigh_point.cluster = not_core \n",
    "#             cluster += 1\n",
    "#         else:\n",
    "#             point.cluster = not_core \n",
    "#         #need to update cluster now\n",
    "        \n",
    "#     return points "
   ]
  },
  {
   "cell_type": "code",
   "execution_count": 66,
   "metadata": {},
   "outputs": [
    {
     "name": "stdout",
     "output_type": "stream",
     "text": [
      "27\n",
      "[6]\n",
      "[3, 4, 4, 5, 5, 6, 7, 7, 5, 6, 7, 8, 8, 8, 9, 11, 12, 13, 13, 17, 17, 18, 18, 18, 19, 21]\n",
      "26\n"
     ]
    }
   ],
   "source": [
    "demo_points_x = [3,4,4,5,5,6,6,7,7,5,6,7,8,8,8,9,11,12,13,13,17,17,18,18,18,19,21]\n",
    "print(len(demo_points_x))\n",
    "random_point = np.random.choice(demo_points_x, 1)\n",
    "print(random_point)\n",
    "demo_points_x.remove(random_point)\n",
    "print(demo_points_x)\n",
    "print(len(demo_points_x))"
   ]
  },
  {
   "cell_type": "code",
   "execution_count": 86,
   "metadata": {},
   "outputs": [
    {
     "name": "stdout",
     "output_type": "stream",
     "text": [
      "[2]\n",
      "[2, 4]\n",
      "[2, 4, 6]\n",
      "[2, 4, 6, 8]\n",
      "[2, 4, 6, 8, 10]\n",
      "[2, 4, 6, 8, 10]\n"
     ]
    },
    {
     "data": {
      "text/plain": [
       "[(2, 9), (4, 8), (6, 7), (8, 6), (10, 5)]"
      ]
     },
     "execution_count": 86,
     "metadata": {},
     "output_type": "execute_result"
    }
   ],
   "source": [
    "test_list = [1,2,3,4,5]\n",
    "test_list2 = [9,8,7,6,5]\n",
    "final = []\n",
    "\n",
    "for i in test_list:\n",
    "    final.append(i * 2)\n",
    "    print(final)\n",
    "\n",
    "print(final)\n",
    "final2 = zip(final, test_list2)\n",
    "list(final2)"
   ]
  },
  {
   "cell_type": "code",
   "execution_count": 56,
   "metadata": {},
   "outputs": [],
   "source": [
    "def multiply(num1, num2):\n",
    "    product = num1 * num2\n",
    "    \n",
    "    return product"
   ]
  },
  {
   "cell_type": "code",
   "execution_count": 57,
   "metadata": {},
   "outputs": [],
   "source": [
    "def test(num, num_list, threshold):\n",
    "    result_list = []\n",
    "    for index in range(len(num_list)):\n",
    "        result_temp = multiply(num, num_list[index])\n",
    "        if result_temp <= threshold:\n",
    "            result_list.append(num_list[index]) \n",
    "            \n",
    "    return result_list\n",
    "        "
   ]
  },
  {
   "cell_type": "code",
   "execution_count": 38,
   "metadata": {},
   "outputs": [
    {
     "data": {
      "text/plain": [
       "100"
      ]
     },
     "execution_count": 38,
     "metadata": {},
     "output_type": "execute_result"
    }
   ],
   "source": [
    "multiply(5,20)"
   ]
  },
  {
   "cell_type": "code",
   "execution_count": 48,
   "metadata": {},
   "outputs": [],
   "source": [
    "temp_list = [1,2,3,4,5]       "
   ]
  },
  {
   "cell_type": "code",
   "execution_count": 45,
   "metadata": {},
   "outputs": [
    {
     "data": {
      "text/plain": [
       "[1]"
      ]
     },
     "execution_count": 45,
     "metadata": {},
     "output_type": "execute_result"
    }
   ],
   "source": [
    "test(5, temp_list, 9)"
   ]
  },
  {
   "cell_type": "code",
   "execution_count": 77,
   "metadata": {},
   "outputs": [
    {
     "data": {
      "text/plain": [
       "4"
      ]
     },
     "execution_count": 77,
     "metadata": {},
     "output_type": "execute_result"
    }
   ],
   "source": [
    "test_list = [1,2,3,4,5]\n",
    "\n",
    "final = test_list\n",
    "final\n",
    "final.index(5)"
   ]
  },
  {
   "cell_type": "code",
   "execution_count": 60,
   "metadata": {},
   "outputs": [],
   "source": [
    "#testing the function below here. \n",
    "\n",
    "def find_neighbors(point, points, epsilon):\n",
    "        ''' Finds all neighboring points within euclidean distance epsilon of point\n",
    "        \n",
    "        Args:\n",
    "            point (Point): point for which we are estimating distance  starting point \n",
    "            points (list of Point): list of points for clustering  every other point \n",
    "            epsilon (float) : distance to allow assignment to current cluster   epsilon is a variable (distance) \n",
    "            \n",
    "        Returns:\n",
    "            neighbors (list of Point): list of all points within epsilon of point\n",
    "        '''\n",
    "        \n",
    "        #initialize neighbors list first \n",
    "        neighbors = []\n",
    "        #get my points here. We already have \n",
    "        for index in range(len(points)): #need to go through points list for each point. \n",
    "            distance_temp = multiply(point, points[index])\n",
    "            if distance_temp <= epsilon:  #epsilon acts as the threshold or radius.  \n",
    "                neighbors.append(points[index]) \n",
    "            \n",
    "        #need to take your point and then for loop through the points list and compare that point with your point \n",
    "        #euclidean_distance \n",
    "        #only finding the neighbors for that specific point. \n",
    "        #<= epsilon \n",
    "        return neighbors  \n"
   ]
  },
  {
   "cell_type": "code",
   "execution_count": 189,
   "metadata": {},
   "outputs": [
    {
     "data": {
      "text/plain": [
       "[]"
      ]
     },
     "execution_count": 189,
     "metadata": {},
     "output_type": "execute_result"
    }
   ],
   "source": [
    "find_neighbors(2, temp_list, 1)"
   ]
  },
  {
   "cell_type": "code",
   "execution_count": null,
   "metadata": {},
   "outputs": [],
   "source": [
    "temp_list = [1,2,3,4,5]   "
   ]
  },
  {
   "cell_type": "code",
   "execution_count": 34,
   "metadata": {},
   "outputs": [
    {
     "data": {
      "text/plain": [
       "array([3])"
      ]
     },
     "execution_count": 34,
     "metadata": {},
     "output_type": "execute_result"
    }
   ],
   "source": [
    "np.random.choice(test_list, 1)"
   ]
  },
  {
   "cell_type": "code",
   "execution_count": 15,
   "metadata": {},
   "outputs": [
    {
     "data": {
      "text/plain": [
       "1"
      ]
     },
     "execution_count": 15,
     "metadata": {},
     "output_type": "execute_result"
    }
   ],
   "source": [
    "test_list = [1,3,4,10]\n",
    "node = test_list.pop(0)\n",
    "node"
   ]
  },
  {
   "cell_type": "code",
   "execution_count": 194,
   "metadata": {},
   "outputs": [
    {
     "name": "stdout",
     "output_type": "stream",
     "text": [
      "[1, 1]\n"
     ]
    }
   ],
   "source": [
    "print(test_list)"
   ]
  },
  {
   "cell_type": "code",
   "execution_count": null,
   "metadata": {},
   "outputs": [],
   "source": []
  }
 ],
 "metadata": {
  "kernelspec": {
   "display_name": "Python 3 (ipykernel)",
   "language": "python",
   "name": "python3"
  },
  "language_info": {
   "codemirror_mode": {
    "name": "ipython",
    "version": 3
   },
   "file_extension": ".py",
   "mimetype": "text/x-python",
   "name": "python",
   "nbconvert_exporter": "python",
   "pygments_lexer": "ipython3",
   "version": "3.7.8"
  }
 },
 "nbformat": 4,
 "nbformat_minor": 4
}
